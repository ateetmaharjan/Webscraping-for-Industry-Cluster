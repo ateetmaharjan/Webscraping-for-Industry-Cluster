{
 "cells": [
  {
   "cell_type": "markdown",
   "metadata": {},
   "source": [
    "## IMPORT REQUIRED LIBRARIES"
   ]
  },
  {
   "cell_type": "code",
   "execution_count": 1,
   "metadata": {},
   "outputs": [],
   "source": [
    "# Import Required Libraries\n",
    "import plotly.express as px\n",
    "import os\n",
    "import pandas as pd\n",
    "import numpy as np"
   ]
  },
  {
   "cell_type": "markdown",
   "metadata": {},
   "source": [
    "## IMPORT DATA (EXCEL FILE)"
   ]
  },
  {
   "cell_type": "code",
   "execution_count": 2,
   "metadata": {},
   "outputs": [
    {
     "output_type": "execute_result",
     "data": {
      "text/plain": "                                        NAICS_Sector NAICS_Code_Sector  \\\n0  NAICS 11 Agriculture, forestry, fishing and hu...          NAICS 11   \n1  NAICS 21 Mining, quarrying, and oil and gas ex...          NAICS 21   \n2                                 NAICS 22 Utilities          NAICS 22   \n3                              NAICS 23 Construction          NAICS 23   \n4                          NAICS 31-33 Manufacturing       NAICS 31-33   \n\n                           NAICS_Industry_Sector  Eri_2018  Eri_2015  \\\n0     Agriculture, forestry, fishing and hunting     16662     15919   \n1  Mining, quarrying, and oil and gas extraction     11859     13799   \n2                                      Utilities     19110     19200   \n3                                   Construction    220709    200338   \n4                                  Manufacturing    698950    685975   \n\n   Change_Eri  Per_change_Eri  LQ_2018  LQ_2015  Per_change_LQ  \\\n0         743            4.66     0.36     0.34           5.88   \n1       -1940          -14.05     0.48     0.49          -2.04   \n2         -90           -0.46     0.94     0.92           2.17   \n3       20371           10.16     0.83     0.83           0.00   \n4       12975            1.89     1.49     1.48           0.67   \n\n   Per_change_Eni  National Share  Industry share  Regional share  \n0            1.15        84018.32       -65560.72       -17714.59  \n1          -10.42        72829.25      -216649.46       141880.21  \n2           -0.31       101334.99      -107455.44         6030.44  \n3           12.48      1057356.80      1443814.25     -2480800.06  \n4            2.89      3620483.07     -1632464.85     -1975043.21  ",
      "text/html": "<div>\n<style scoped>\n    .dataframe tbody tr th:only-of-type {\n        vertical-align: middle;\n    }\n\n    .dataframe tbody tr th {\n        vertical-align: top;\n    }\n\n    .dataframe thead th {\n        text-align: right;\n    }\n</style>\n<table border=\"1\" class=\"dataframe\">\n  <thead>\n    <tr style=\"text-align: right;\">\n      <th></th>\n      <th>NAICS_Sector</th>\n      <th>NAICS_Code_Sector</th>\n      <th>NAICS_Industry_Sector</th>\n      <th>Eri_2018</th>\n      <th>Eri_2015</th>\n      <th>Change_Eri</th>\n      <th>Per_change_Eri</th>\n      <th>LQ_2018</th>\n      <th>LQ_2015</th>\n      <th>Per_change_LQ</th>\n      <th>Per_change_Eni</th>\n      <th>National Share</th>\n      <th>Industry share</th>\n      <th>Regional share</th>\n    </tr>\n  </thead>\n  <tbody>\n    <tr>\n      <th>0</th>\n      <td>NAICS 11 Agriculture, forestry, fishing and hu...</td>\n      <td>NAICS 11</td>\n      <td>Agriculture, forestry, fishing and hunting</td>\n      <td>16662</td>\n      <td>15919</td>\n      <td>743</td>\n      <td>4.66</td>\n      <td>0.36</td>\n      <td>0.34</td>\n      <td>5.88</td>\n      <td>1.15</td>\n      <td>84018.32</td>\n      <td>-65560.72</td>\n      <td>-17714.59</td>\n    </tr>\n    <tr>\n      <th>1</th>\n      <td>NAICS 21 Mining, quarrying, and oil and gas ex...</td>\n      <td>NAICS 21</td>\n      <td>Mining, quarrying, and oil and gas extraction</td>\n      <td>11859</td>\n      <td>13799</td>\n      <td>-1940</td>\n      <td>-14.05</td>\n      <td>0.48</td>\n      <td>0.49</td>\n      <td>-2.04</td>\n      <td>-10.42</td>\n      <td>72829.25</td>\n      <td>-216649.46</td>\n      <td>141880.21</td>\n    </tr>\n    <tr>\n      <th>2</th>\n      <td>NAICS 22 Utilities</td>\n      <td>NAICS 22</td>\n      <td>Utilities</td>\n      <td>19110</td>\n      <td>19200</td>\n      <td>-90</td>\n      <td>-0.46</td>\n      <td>0.94</td>\n      <td>0.92</td>\n      <td>2.17</td>\n      <td>-0.31</td>\n      <td>101334.99</td>\n      <td>-107455.44</td>\n      <td>6030.44</td>\n    </tr>\n    <tr>\n      <th>3</th>\n      <td>NAICS 23 Construction</td>\n      <td>NAICS 23</td>\n      <td>Construction</td>\n      <td>220709</td>\n      <td>200338</td>\n      <td>20371</td>\n      <td>10.16</td>\n      <td>0.83</td>\n      <td>0.83</td>\n      <td>0.00</td>\n      <td>12.48</td>\n      <td>1057356.80</td>\n      <td>1443814.25</td>\n      <td>-2480800.06</td>\n    </tr>\n    <tr>\n      <th>4</th>\n      <td>NAICS 31-33 Manufacturing</td>\n      <td>NAICS 31-33</td>\n      <td>Manufacturing</td>\n      <td>698950</td>\n      <td>685975</td>\n      <td>12975</td>\n      <td>1.89</td>\n      <td>1.49</td>\n      <td>1.48</td>\n      <td>0.67</td>\n      <td>2.89</td>\n      <td>3620483.07</td>\n      <td>-1632464.85</td>\n      <td>-1975043.21</td>\n    </tr>\n  </tbody>\n</table>\n</div>"
     },
     "metadata": {},
     "execution_count": 2
    }
   ],
   "source": [
    "# Import Excel File as a dataframe using Pandas\n",
    "ohio_data = pd.read_excel(\"./Data-and-analysis/Cleaned_for_cluster.xlsx\",\n",
    "                          sheet_name=\"ohio\", header=0)\n",
    "adam_data = pd.read_excel(\"./Data-and-analysis/Cleaned_for_cluster.xlsx\",\n",
    "                          sheet_name=\"adam\", header=0)\n",
    "\n",
    "# Take a look at first five rows of dataframe\n",
    "ohio_data.head()"
   ]
  },
  {
   "cell_type": "markdown",
   "metadata": {},
   "source": [
    "### Generate new column for LQ value of 2018 compared to national average"
   ]
  },
  {
   "cell_type": "code",
   "execution_count": 3,
   "metadata": {},
   "outputs": [],
   "source": [
    "lq = []\n",
    "for value in ohio_data[\"LQ_2018\"]:\n",
    "    if value > 1:\n",
    "        lq.append(\"LQ>1\")\n",
    "    elif value == 0:\n",
    "        lq.append(\"LQ=1\")\n",
    "    else:\n",
    "        lq.append(\"LQ<1\")\n",
    "\n",
    "ohio_data[\"LQ_comparison\"] = lq"
   ]
  },
  {
   "cell_type": "markdown",
   "metadata": {},
   "source": [
    "### Install the package from terminal or using !pip install plotly from jupyter notebook."
   ]
  },
  {
   "cell_type": "code",
   "execution_count": 4,
   "metadata": {},
   "outputs": [
    {
     "output_type": "stream",
     "name": "stdout",
     "text": "Successfully installed\n"
    }
   ],
   "source": [
    "# Make sure the package is installed.\n",
    "# pip install plotly # Try this code in terminal\n",
    "# or try this in the code\n",
    "package = \"plotly\"\n",
    "try:\n",
    "    __import__package\n",
    "    print(\"imported\")\n",
    "except:\n",
    "    os.system(\"pip install \" + package)\n",
    "    print(\"Successfully installed\")"
   ]
  },
  {
   "cell_type": "markdown",
   "metadata": {},
   "source": [
    "### Ohio data: Plot cluster bubble chart using Plotly packaage"
   ]
  },
  {
   "cell_type": "code",
   "execution_count": 5,
   "metadata": {},
   "outputs": [
    {
     "output_type": "display_data",
     "data": {
      "application/vnd.plotly.v1+json": {
       "config": {
        "plotlyServerURL": "https://plot.ly"
       },
       "data": [
        {
         "hovertemplate": "<b>%{hovertext}</b><br><br>Per_change_LQ=%{x}<br>LQ_2018=%{y}<extra></extra>",
         "hovertext": [
          "Agriculture, forestry, fishing and hunting",
          "Mining, quarrying, and oil and gas extraction",
          "Utilities",
          "Construction",
          "Manufacturing",
          "Wholesale trade",
          "Retail trade",
          "Transportation and warehousing",
          "Information",
          "Finance and insurance",
          "Real estate and rental and leasing",
          "Professional and technical services",
          "Management of companies and enterprises",
          "Administrative and waste services",
          "Educational services",
          "Health care and social assistance",
          "Arts, entertainment, and recreation",
          "Accommodation and food services",
          "Other services, except public administration",
          "Unclassified"
         ],
         "legendgroup": "",
         "marker": {
          "color": "#636efa",
          "symbol": "circle"
         },
         "mode": "markers",
         "name": "",
         "showlegend": false,
         "type": "scatter",
         "x": [
          5.88,
          -2.04,
          2.17,
          0,
          0.67,
          1.88,
          0,
          0,
          -1.44,
          5.05,
          -1.26,
          0,
          -3.57,
          -3.06,
          -4.3,
          -0.89,
          -1.05,
          0,
          0,
          -30.76
         ],
         "xaxis": "x",
         "y": [
          0.36,
          0.48,
          0.94,
          0.83,
          1.49,
          1.08,
          0.97,
          1.04,
          0.68,
          1.04,
          0.78,
          0.77,
          1.62,
          0.95,
          0.89,
          1.11,
          0.94,
          0.95,
          0.94,
          0.09
         ],
         "yaxis": "y"
        }
       ],
       "layout": {
        "annotations": [
         {
          "ax": 15,
          "ay": -20,
          "font": {
           "size": 12
          },
          "text": "Unclassified",
          "x": -30.76,
          "xref": "x",
          "y": 0.09,
          "yref": "y"
         }
        ],
        "font": {
         "color": "black",
         "family": "Helvetica",
         "size": 14
        },
        "hoverlabel": {
         "bgcolor": "white",
         "font": {
          "color": "black"
         }
        },
        "legend": {
         "tracegroupgap": 0
        },
        "margin": {
         "t": 60
        },
        "shapes": [
         {
          "line": {
           "color": "Black",
           "width": 0.4
          },
          "type": "line",
          "x0": 0,
          "x1": 0,
          "y0": 0,
          "y1": 2
         },
         {
          "line": {
           "color": "Black",
           "width": 0.4
          },
          "type": "line",
          "x0": -32,
          "x1": 6,
          "y0": 1,
          "y1": 1
         }
        ],
        "template": {
         "data": {
          "bar": [
           {
            "error_x": {
             "color": "#2a3f5f"
            },
            "error_y": {
             "color": "#2a3f5f"
            },
            "marker": {
             "line": {
              "color": "#E5ECF6",
              "width": 0.5
             }
            },
            "type": "bar"
           }
          ],
          "barpolar": [
           {
            "marker": {
             "line": {
              "color": "#E5ECF6",
              "width": 0.5
             }
            },
            "type": "barpolar"
           }
          ],
          "carpet": [
           {
            "aaxis": {
             "endlinecolor": "#2a3f5f",
             "gridcolor": "white",
             "linecolor": "white",
             "minorgridcolor": "white",
             "startlinecolor": "#2a3f5f"
            },
            "baxis": {
             "endlinecolor": "#2a3f5f",
             "gridcolor": "white",
             "linecolor": "white",
             "minorgridcolor": "white",
             "startlinecolor": "#2a3f5f"
            },
            "type": "carpet"
           }
          ],
          "choropleth": [
           {
            "colorbar": {
             "outlinewidth": 0,
             "ticks": ""
            },
            "type": "choropleth"
           }
          ],
          "contour": [
           {
            "colorbar": {
             "outlinewidth": 0,
             "ticks": ""
            },
            "colorscale": [
             [
              0,
              "#0d0887"
             ],
             [
              0.1111111111111111,
              "#46039f"
             ],
             [
              0.2222222222222222,
              "#7201a8"
             ],
             [
              0.3333333333333333,
              "#9c179e"
             ],
             [
              0.4444444444444444,
              "#bd3786"
             ],
             [
              0.5555555555555556,
              "#d8576b"
             ],
             [
              0.6666666666666666,
              "#ed7953"
             ],
             [
              0.7777777777777778,
              "#fb9f3a"
             ],
             [
              0.8888888888888888,
              "#fdca26"
             ],
             [
              1,
              "#f0f921"
             ]
            ],
            "type": "contour"
           }
          ],
          "contourcarpet": [
           {
            "colorbar": {
             "outlinewidth": 0,
             "ticks": ""
            },
            "type": "contourcarpet"
           }
          ],
          "heatmap": [
           {
            "colorbar": {
             "outlinewidth": 0,
             "ticks": ""
            },
            "colorscale": [
             [
              0,
              "#0d0887"
             ],
             [
              0.1111111111111111,
              "#46039f"
             ],
             [
              0.2222222222222222,
              "#7201a8"
             ],
             [
              0.3333333333333333,
              "#9c179e"
             ],
             [
              0.4444444444444444,
              "#bd3786"
             ],
             [
              0.5555555555555556,
              "#d8576b"
             ],
             [
              0.6666666666666666,
              "#ed7953"
             ],
             [
              0.7777777777777778,
              "#fb9f3a"
             ],
             [
              0.8888888888888888,
              "#fdca26"
             ],
             [
              1,
              "#f0f921"
             ]
            ],
            "type": "heatmap"
           }
          ],
          "heatmapgl": [
           {
            "colorbar": {
             "outlinewidth": 0,
             "ticks": ""
            },
            "colorscale": [
             [
              0,
              "#0d0887"
             ],
             [
              0.1111111111111111,
              "#46039f"
             ],
             [
              0.2222222222222222,
              "#7201a8"
             ],
             [
              0.3333333333333333,
              "#9c179e"
             ],
             [
              0.4444444444444444,
              "#bd3786"
             ],
             [
              0.5555555555555556,
              "#d8576b"
             ],
             [
              0.6666666666666666,
              "#ed7953"
             ],
             [
              0.7777777777777778,
              "#fb9f3a"
             ],
             [
              0.8888888888888888,
              "#fdca26"
             ],
             [
              1,
              "#f0f921"
             ]
            ],
            "type": "heatmapgl"
           }
          ],
          "histogram": [
           {
            "marker": {
             "colorbar": {
              "outlinewidth": 0,
              "ticks": ""
             }
            },
            "type": "histogram"
           }
          ],
          "histogram2d": [
           {
            "colorbar": {
             "outlinewidth": 0,
             "ticks": ""
            },
            "colorscale": [
             [
              0,
              "#0d0887"
             ],
             [
              0.1111111111111111,
              "#46039f"
             ],
             [
              0.2222222222222222,
              "#7201a8"
             ],
             [
              0.3333333333333333,
              "#9c179e"
             ],
             [
              0.4444444444444444,
              "#bd3786"
             ],
             [
              0.5555555555555556,
              "#d8576b"
             ],
             [
              0.6666666666666666,
              "#ed7953"
             ],
             [
              0.7777777777777778,
              "#fb9f3a"
             ],
             [
              0.8888888888888888,
              "#fdca26"
             ],
             [
              1,
              "#f0f921"
             ]
            ],
            "type": "histogram2d"
           }
          ],
          "histogram2dcontour": [
           {
            "colorbar": {
             "outlinewidth": 0,
             "ticks": ""
            },
            "colorscale": [
             [
              0,
              "#0d0887"
             ],
             [
              0.1111111111111111,
              "#46039f"
             ],
             [
              0.2222222222222222,
              "#7201a8"
             ],
             [
              0.3333333333333333,
              "#9c179e"
             ],
             [
              0.4444444444444444,
              "#bd3786"
             ],
             [
              0.5555555555555556,
              "#d8576b"
             ],
             [
              0.6666666666666666,
              "#ed7953"
             ],
             [
              0.7777777777777778,
              "#fb9f3a"
             ],
             [
              0.8888888888888888,
              "#fdca26"
             ],
             [
              1,
              "#f0f921"
             ]
            ],
            "type": "histogram2dcontour"
           }
          ],
          "mesh3d": [
           {
            "colorbar": {
             "outlinewidth": 0,
             "ticks": ""
            },
            "type": "mesh3d"
           }
          ],
          "parcoords": [
           {
            "line": {
             "colorbar": {
              "outlinewidth": 0,
              "ticks": ""
             }
            },
            "type": "parcoords"
           }
          ],
          "pie": [
           {
            "automargin": true,
            "type": "pie"
           }
          ],
          "scatter": [
           {
            "marker": {
             "colorbar": {
              "outlinewidth": 0,
              "ticks": ""
             }
            },
            "type": "scatter"
           }
          ],
          "scatter3d": [
           {
            "line": {
             "colorbar": {
              "outlinewidth": 0,
              "ticks": ""
             }
            },
            "marker": {
             "colorbar": {
              "outlinewidth": 0,
              "ticks": ""
             }
            },
            "type": "scatter3d"
           }
          ],
          "scattercarpet": [
           {
            "marker": {
             "colorbar": {
              "outlinewidth": 0,
              "ticks": ""
             }
            },
            "type": "scattercarpet"
           }
          ],
          "scattergeo": [
           {
            "marker": {
             "colorbar": {
              "outlinewidth": 0,
              "ticks": ""
             }
            },
            "type": "scattergeo"
           }
          ],
          "scattergl": [
           {
            "marker": {
             "colorbar": {
              "outlinewidth": 0,
              "ticks": ""
             }
            },
            "type": "scattergl"
           }
          ],
          "scattermapbox": [
           {
            "marker": {
             "colorbar": {
              "outlinewidth": 0,
              "ticks": ""
             }
            },
            "type": "scattermapbox"
           }
          ],
          "scatterpolar": [
           {
            "marker": {
             "colorbar": {
              "outlinewidth": 0,
              "ticks": ""
             }
            },
            "type": "scatterpolar"
           }
          ],
          "scatterpolargl": [
           {
            "marker": {
             "colorbar": {
              "outlinewidth": 0,
              "ticks": ""
             }
            },
            "type": "scatterpolargl"
           }
          ],
          "scatterternary": [
           {
            "marker": {
             "colorbar": {
              "outlinewidth": 0,
              "ticks": ""
             }
            },
            "type": "scatterternary"
           }
          ],
          "surface": [
           {
            "colorbar": {
             "outlinewidth": 0,
             "ticks": ""
            },
            "colorscale": [
             [
              0,
              "#0d0887"
             ],
             [
              0.1111111111111111,
              "#46039f"
             ],
             [
              0.2222222222222222,
              "#7201a8"
             ],
             [
              0.3333333333333333,
              "#9c179e"
             ],
             [
              0.4444444444444444,
              "#bd3786"
             ],
             [
              0.5555555555555556,
              "#d8576b"
             ],
             [
              0.6666666666666666,
              "#ed7953"
             ],
             [
              0.7777777777777778,
              "#fb9f3a"
             ],
             [
              0.8888888888888888,
              "#fdca26"
             ],
             [
              1,
              "#f0f921"
             ]
            ],
            "type": "surface"
           }
          ],
          "table": [
           {
            "cells": {
             "fill": {
              "color": "#EBF0F8"
             },
             "line": {
              "color": "white"
             }
            },
            "header": {
             "fill": {
              "color": "#C8D4E3"
             },
             "line": {
              "color": "white"
             }
            },
            "type": "table"
           }
          ]
         },
         "layout": {
          "annotationdefaults": {
           "arrowcolor": "#2a3f5f",
           "arrowhead": 0,
           "arrowwidth": 1
          },
          "coloraxis": {
           "colorbar": {
            "outlinewidth": 0,
            "ticks": ""
           }
          },
          "colorscale": {
           "diverging": [
            [
             0,
             "#8e0152"
            ],
            [
             0.1,
             "#c51b7d"
            ],
            [
             0.2,
             "#de77ae"
            ],
            [
             0.3,
             "#f1b6da"
            ],
            [
             0.4,
             "#fde0ef"
            ],
            [
             0.5,
             "#f7f7f7"
            ],
            [
             0.6,
             "#e6f5d0"
            ],
            [
             0.7,
             "#b8e186"
            ],
            [
             0.8,
             "#7fbc41"
            ],
            [
             0.9,
             "#4d9221"
            ],
            [
             1,
             "#276419"
            ]
           ],
           "sequential": [
            [
             0,
             "#0d0887"
            ],
            [
             0.1111111111111111,
             "#46039f"
            ],
            [
             0.2222222222222222,
             "#7201a8"
            ],
            [
             0.3333333333333333,
             "#9c179e"
            ],
            [
             0.4444444444444444,
             "#bd3786"
            ],
            [
             0.5555555555555556,
             "#d8576b"
            ],
            [
             0.6666666666666666,
             "#ed7953"
            ],
            [
             0.7777777777777778,
             "#fb9f3a"
            ],
            [
             0.8888888888888888,
             "#fdca26"
            ],
            [
             1,
             "#f0f921"
            ]
           ],
           "sequentialminus": [
            [
             0,
             "#0d0887"
            ],
            [
             0.1111111111111111,
             "#46039f"
            ],
            [
             0.2222222222222222,
             "#7201a8"
            ],
            [
             0.3333333333333333,
             "#9c179e"
            ],
            [
             0.4444444444444444,
             "#bd3786"
            ],
            [
             0.5555555555555556,
             "#d8576b"
            ],
            [
             0.6666666666666666,
             "#ed7953"
            ],
            [
             0.7777777777777778,
             "#fb9f3a"
            ],
            [
             0.8888888888888888,
             "#fdca26"
            ],
            [
             1,
             "#f0f921"
            ]
           ]
          },
          "colorway": [
           "#636efa",
           "#EF553B",
           "#00cc96",
           "#ab63fa",
           "#FFA15A",
           "#19d3f3",
           "#FF6692",
           "#B6E880",
           "#FF97FF",
           "#FECB52"
          ],
          "font": {
           "color": "#2a3f5f"
          },
          "geo": {
           "bgcolor": "white",
           "lakecolor": "white",
           "landcolor": "#E5ECF6",
           "showlakes": true,
           "showland": true,
           "subunitcolor": "white"
          },
          "hoverlabel": {
           "align": "left"
          },
          "hovermode": "closest",
          "mapbox": {
           "style": "light"
          },
          "paper_bgcolor": "white",
          "plot_bgcolor": "#E5ECF6",
          "polar": {
           "angularaxis": {
            "gridcolor": "white",
            "linecolor": "white",
            "ticks": ""
           },
           "bgcolor": "#E5ECF6",
           "radialaxis": {
            "gridcolor": "white",
            "linecolor": "white",
            "ticks": ""
           }
          },
          "scene": {
           "xaxis": {
            "backgroundcolor": "#E5ECF6",
            "gridcolor": "white",
            "gridwidth": 2,
            "linecolor": "white",
            "showbackground": true,
            "ticks": "",
            "zerolinecolor": "white"
           },
           "yaxis": {
            "backgroundcolor": "#E5ECF6",
            "gridcolor": "white",
            "gridwidth": 2,
            "linecolor": "white",
            "showbackground": true,
            "ticks": "",
            "zerolinecolor": "white"
           },
           "zaxis": {
            "backgroundcolor": "#E5ECF6",
            "gridcolor": "white",
            "gridwidth": 2,
            "linecolor": "white",
            "showbackground": true,
            "ticks": "",
            "zerolinecolor": "white"
           }
          },
          "shapedefaults": {
           "line": {
            "color": "#2a3f5f"
           }
          },
          "ternary": {
           "aaxis": {
            "gridcolor": "white",
            "linecolor": "white",
            "ticks": ""
           },
           "baxis": {
            "gridcolor": "white",
            "linecolor": "white",
            "ticks": ""
           },
           "bgcolor": "#E5ECF6",
           "caxis": {
            "gridcolor": "white",
            "linecolor": "white",
            "ticks": ""
           }
          },
          "title": {
           "x": 0.05
          },
          "xaxis": {
           "automargin": true,
           "gridcolor": "white",
           "linecolor": "white",
           "ticks": "",
           "title": {
            "standoff": 15
           },
           "zerolinecolor": "white",
           "zerolinewidth": 2
          },
          "yaxis": {
           "automargin": true,
           "gridcolor": "white",
           "linecolor": "white",
           "ticks": "",
           "title": {
            "standoff": 15
           },
           "zerolinecolor": "white",
           "zerolinewidth": 2
          }
         }
        },
        "title": {
         "text": "Industry Cluster Bubble Chart for Ohio (with unallocated)",
         "x": 0.5
        },
        "xaxis": {
         "anchor": "y",
         "domain": [
          0,
          1
         ],
         "title": {
          "text": "Percent change in LQ (2015-2018)"
         }
        },
        "yaxis": {
         "anchor": "x",
         "domain": [
          0,
          1
         ],
         "title": {
          "text": "LQ in 2018"
         }
        }
       }
      }
     },
     "metadata": {}
    }
   ],
   "source": [
    "# Import plotly\n",
    "ohio_bubble = px.scatter(\n",
    "    ohio_data,\n",
    "    x=\"Per_change_LQ\",\n",
    "    y=\"LQ_2018\",\n",
    "    # size=\"Eri_2018\", # do not include size here to inspect all data points\n",
    "    # color=\"LQ_comparison\",\n",
    "    hover_name=\"NAICS_Industry_Sector\",\n",
    "    size_max=None )\n",
    "\n",
    "ohio_bubble.update_layout(\n",
    "    title_text='Industry Cluster Bubble Chart for Ohio (with unallocated)', \n",
    "    title_x=0.5, #center alignment for title,\n",
    "    xaxis=dict(title=\"Percent change in LQ (2015-2018)\"),\n",
    "    yaxis=dict(title=\"LQ in 2018\"),\n",
    "    font=dict(family=\"Helvetica\", size=14, color=\"black\"),\n",
    "    hoverlabel=dict(bgcolor='white', font=dict(color='black')),)\n",
    "\n",
    "# Add horizontal and vertical lines\n",
    "ohio_bubble.add_shape(\n",
    "    dict(type=\"line\", x0=0, y0=0, x1=0, y1=2, line=dict(color=\"Black\", width=0.4)))\n",
    "\n",
    "ohio_bubble.add_shape(\n",
    "    type=\"line\", x0=-32, y0=1, x1=6, y1=1, line=dict(color=\"Black\", width=0.4))\n",
    "\n",
    "ohio_bubble.add_annotation(\n",
    "    x=-30.76, y=0.09, text=\"Unclassified\")\n",
    "\n",
    "ohio_bubble.update_annotations(dict(\n",
    "    xref=\"x\", yref=\"y\", font=dict(size=12),\n",
    "    # showarrow=True,\n",
    "    # arrowhead=7,\n",
    "    ax=15, ay=-20  # location of text on the coordinates\n",
    "))\n",
    "\n",
    "ohio_bubble.show()"
   ]
  },
  {
   "cell_type": "code",
   "execution_count": 6,
   "metadata": {},
   "outputs": [],
   "source": [
    "# Saves the file in pdf format (pdf format saves resolution of picture)\n",
    "# Do you want the application “orca.app” to accept incoming network connections? Allow\n",
    "ohio_bubble.write_image(\"./cluster_chart/ohio_bubble.pdf\")"
   ]
  },
  {
   "cell_type": "code",
   "execution_count": 7,
   "metadata": {},
   "outputs": [],
   "source": [
    "# Remove unclassified data point so that we can clearly see other datapoints\n",
    "ohio_filtered = ohio_data[ohio_data.Per_change_LQ >= -30]"
   ]
  },
  {
   "cell_type": "code",
   "execution_count": 8,
   "metadata": {},
   "outputs": [
    {
     "output_type": "display_data",
     "data": {
      "application/vnd.plotly.v1+json": {
       "config": {
        "plotlyServerURL": "https://plot.ly"
       },
       "data": [
        {
         "hovertemplate": "<b>%{hovertext}</b><br><br>LQ_comparison=LQ<1<br>Per_change_LQ=%{x}<br>LQ_2018=%{y}<br>Eri_2018=%{marker.size}<extra></extra>",
         "hovertext": [
          "Agriculture, forestry, fishing and hunting",
          "Mining, quarrying, and oil and gas extraction",
          "Utilities",
          "Construction",
          "Retail trade",
          "Information",
          "Real estate and rental and leasing",
          "Professional and technical services",
          "Administrative and waste services",
          "Educational services",
          "Arts, entertainment, and recreation",
          "Accommodation and food services",
          "Other services, except public administration"
         ],
         "legendgroup": "LQ<1",
         "marker": {
          "color": "#636efa",
          "size": [
           16662,
           11859,
           19110,
           220709,
           563820,
           70930,
           64155,
           262870,
           325830,
           95539,
           81785,
           484896,
           156685
          ],
          "sizemode": "area",
          "sizeref": 2021.505,
          "symbol": "circle"
         },
         "mode": "markers",
         "name": "LQ<1",
         "showlegend": true,
         "type": "scatter",
         "x": [
          5.88,
          -2.04,
          2.17,
          0,
          0,
          -1.44,
          -1.26,
          0,
          -3.06,
          -4.3,
          -1.05,
          0,
          0
         ],
         "xaxis": "x",
         "y": [
          0.36,
          0.48,
          0.94,
          0.83,
          0.97,
          0.68,
          0.78,
          0.77,
          0.95,
          0.89,
          0.94,
          0.95,
          0.94
         ],
         "yaxis": "y"
        },
        {
         "hovertemplate": "<b>%{hovertext}</b><br><br>LQ_comparison=LQ>1<br>Per_change_LQ=%{x}<br>LQ_2018=%{y}<br>Eri_2018=%{marker.size}<extra></extra>",
         "hovertext": [
          "Manufacturing",
          "Wholesale trade",
          "Transportation and warehousing",
          "Finance and insurance",
          "Management of companies and enterprises",
          "Health care and social assistance"
         ],
         "legendgroup": "LQ>1",
         "marker": {
          "color": "#EF553B",
          "size": [
           698950,
           234789,
           199530,
           229394,
           140729,
           808602
          ],
          "sizemode": "area",
          "sizeref": 2021.505,
          "symbol": "circle"
         },
         "mode": "markers",
         "name": "LQ>1",
         "showlegend": true,
         "type": "scatter",
         "x": [
          0.67,
          1.88,
          0,
          5.05,
          -3.57,
          -0.89
         ],
         "xaxis": "x",
         "y": [
          1.49,
          1.08,
          1.04,
          1.04,
          1.62,
          1.11
         ],
         "yaxis": "y"
        }
       ],
       "layout": {
        "font": {
         "color": "black",
         "family": "Helvetica",
         "size": 14
        },
        "hoverlabel": {
         "bgcolor": "white",
         "font": {
          "color": "black"
         }
        },
        "legend": {
         "itemsizing": "constant",
         "title": {
          "text": "LQ_comparison"
         },
         "tracegroupgap": 0
        },
        "margin": {
         "t": 60
        },
        "shapes": [
         {
          "line": {
           "color": "Black",
           "width": 0.4
          },
          "type": "line",
          "x0": 0,
          "x1": 0,
          "y0": 0,
          "y1": 2
         },
         {
          "line": {
           "color": "Black",
           "width": 0.4
          },
          "type": "line",
          "x0": -10,
          "x1": 10,
          "y0": 1,
          "y1": 1
         }
        ],
        "template": {
         "data": {
          "bar": [
           {
            "error_x": {
             "color": "#2a3f5f"
            },
            "error_y": {
             "color": "#2a3f5f"
            },
            "marker": {
             "line": {
              "color": "#E5ECF6",
              "width": 0.5
             }
            },
            "type": "bar"
           }
          ],
          "barpolar": [
           {
            "marker": {
             "line": {
              "color": "#E5ECF6",
              "width": 0.5
             }
            },
            "type": "barpolar"
           }
          ],
          "carpet": [
           {
            "aaxis": {
             "endlinecolor": "#2a3f5f",
             "gridcolor": "white",
             "linecolor": "white",
             "minorgridcolor": "white",
             "startlinecolor": "#2a3f5f"
            },
            "baxis": {
             "endlinecolor": "#2a3f5f",
             "gridcolor": "white",
             "linecolor": "white",
             "minorgridcolor": "white",
             "startlinecolor": "#2a3f5f"
            },
            "type": "carpet"
           }
          ],
          "choropleth": [
           {
            "colorbar": {
             "outlinewidth": 0,
             "ticks": ""
            },
            "type": "choropleth"
           }
          ],
          "contour": [
           {
            "colorbar": {
             "outlinewidth": 0,
             "ticks": ""
            },
            "colorscale": [
             [
              0,
              "#0d0887"
             ],
             [
              0.1111111111111111,
              "#46039f"
             ],
             [
              0.2222222222222222,
              "#7201a8"
             ],
             [
              0.3333333333333333,
              "#9c179e"
             ],
             [
              0.4444444444444444,
              "#bd3786"
             ],
             [
              0.5555555555555556,
              "#d8576b"
             ],
             [
              0.6666666666666666,
              "#ed7953"
             ],
             [
              0.7777777777777778,
              "#fb9f3a"
             ],
             [
              0.8888888888888888,
              "#fdca26"
             ],
             [
              1,
              "#f0f921"
             ]
            ],
            "type": "contour"
           }
          ],
          "contourcarpet": [
           {
            "colorbar": {
             "outlinewidth": 0,
             "ticks": ""
            },
            "type": "contourcarpet"
           }
          ],
          "heatmap": [
           {
            "colorbar": {
             "outlinewidth": 0,
             "ticks": ""
            },
            "colorscale": [
             [
              0,
              "#0d0887"
             ],
             [
              0.1111111111111111,
              "#46039f"
             ],
             [
              0.2222222222222222,
              "#7201a8"
             ],
             [
              0.3333333333333333,
              "#9c179e"
             ],
             [
              0.4444444444444444,
              "#bd3786"
             ],
             [
              0.5555555555555556,
              "#d8576b"
             ],
             [
              0.6666666666666666,
              "#ed7953"
             ],
             [
              0.7777777777777778,
              "#fb9f3a"
             ],
             [
              0.8888888888888888,
              "#fdca26"
             ],
             [
              1,
              "#f0f921"
             ]
            ],
            "type": "heatmap"
           }
          ],
          "heatmapgl": [
           {
            "colorbar": {
             "outlinewidth": 0,
             "ticks": ""
            },
            "colorscale": [
             [
              0,
              "#0d0887"
             ],
             [
              0.1111111111111111,
              "#46039f"
             ],
             [
              0.2222222222222222,
              "#7201a8"
             ],
             [
              0.3333333333333333,
              "#9c179e"
             ],
             [
              0.4444444444444444,
              "#bd3786"
             ],
             [
              0.5555555555555556,
              "#d8576b"
             ],
             [
              0.6666666666666666,
              "#ed7953"
             ],
             [
              0.7777777777777778,
              "#fb9f3a"
             ],
             [
              0.8888888888888888,
              "#fdca26"
             ],
             [
              1,
              "#f0f921"
             ]
            ],
            "type": "heatmapgl"
           }
          ],
          "histogram": [
           {
            "marker": {
             "colorbar": {
              "outlinewidth": 0,
              "ticks": ""
             }
            },
            "type": "histogram"
           }
          ],
          "histogram2d": [
           {
            "colorbar": {
             "outlinewidth": 0,
             "ticks": ""
            },
            "colorscale": [
             [
              0,
              "#0d0887"
             ],
             [
              0.1111111111111111,
              "#46039f"
             ],
             [
              0.2222222222222222,
              "#7201a8"
             ],
             [
              0.3333333333333333,
              "#9c179e"
             ],
             [
              0.4444444444444444,
              "#bd3786"
             ],
             [
              0.5555555555555556,
              "#d8576b"
             ],
             [
              0.6666666666666666,
              "#ed7953"
             ],
             [
              0.7777777777777778,
              "#fb9f3a"
             ],
             [
              0.8888888888888888,
              "#fdca26"
             ],
             [
              1,
              "#f0f921"
             ]
            ],
            "type": "histogram2d"
           }
          ],
          "histogram2dcontour": [
           {
            "colorbar": {
             "outlinewidth": 0,
             "ticks": ""
            },
            "colorscale": [
             [
              0,
              "#0d0887"
             ],
             [
              0.1111111111111111,
              "#46039f"
             ],
             [
              0.2222222222222222,
              "#7201a8"
             ],
             [
              0.3333333333333333,
              "#9c179e"
             ],
             [
              0.4444444444444444,
              "#bd3786"
             ],
             [
              0.5555555555555556,
              "#d8576b"
             ],
             [
              0.6666666666666666,
              "#ed7953"
             ],
             [
              0.7777777777777778,
              "#fb9f3a"
             ],
             [
              0.8888888888888888,
              "#fdca26"
             ],
             [
              1,
              "#f0f921"
             ]
            ],
            "type": "histogram2dcontour"
           }
          ],
          "mesh3d": [
           {
            "colorbar": {
             "outlinewidth": 0,
             "ticks": ""
            },
            "type": "mesh3d"
           }
          ],
          "parcoords": [
           {
            "line": {
             "colorbar": {
              "outlinewidth": 0,
              "ticks": ""
             }
            },
            "type": "parcoords"
           }
          ],
          "pie": [
           {
            "automargin": true,
            "type": "pie"
           }
          ],
          "scatter": [
           {
            "marker": {
             "colorbar": {
              "outlinewidth": 0,
              "ticks": ""
             }
            },
            "type": "scatter"
           }
          ],
          "scatter3d": [
           {
            "line": {
             "colorbar": {
              "outlinewidth": 0,
              "ticks": ""
             }
            },
            "marker": {
             "colorbar": {
              "outlinewidth": 0,
              "ticks": ""
             }
            },
            "type": "scatter3d"
           }
          ],
          "scattercarpet": [
           {
            "marker": {
             "colorbar": {
              "outlinewidth": 0,
              "ticks": ""
             }
            },
            "type": "scattercarpet"
           }
          ],
          "scattergeo": [
           {
            "marker": {
             "colorbar": {
              "outlinewidth": 0,
              "ticks": ""
             }
            },
            "type": "scattergeo"
           }
          ],
          "scattergl": [
           {
            "marker": {
             "colorbar": {
              "outlinewidth": 0,
              "ticks": ""
             }
            },
            "type": "scattergl"
           }
          ],
          "scattermapbox": [
           {
            "marker": {
             "colorbar": {
              "outlinewidth": 0,
              "ticks": ""
             }
            },
            "type": "scattermapbox"
           }
          ],
          "scatterpolar": [
           {
            "marker": {
             "colorbar": {
              "outlinewidth": 0,
              "ticks": ""
             }
            },
            "type": "scatterpolar"
           }
          ],
          "scatterpolargl": [
           {
            "marker": {
             "colorbar": {
              "outlinewidth": 0,
              "ticks": ""
             }
            },
            "type": "scatterpolargl"
           }
          ],
          "scatterternary": [
           {
            "marker": {
             "colorbar": {
              "outlinewidth": 0,
              "ticks": ""
             }
            },
            "type": "scatterternary"
           }
          ],
          "surface": [
           {
            "colorbar": {
             "outlinewidth": 0,
             "ticks": ""
            },
            "colorscale": [
             [
              0,
              "#0d0887"
             ],
             [
              0.1111111111111111,
              "#46039f"
             ],
             [
              0.2222222222222222,
              "#7201a8"
             ],
             [
              0.3333333333333333,
              "#9c179e"
             ],
             [
              0.4444444444444444,
              "#bd3786"
             ],
             [
              0.5555555555555556,
              "#d8576b"
             ],
             [
              0.6666666666666666,
              "#ed7953"
             ],
             [
              0.7777777777777778,
              "#fb9f3a"
             ],
             [
              0.8888888888888888,
              "#fdca26"
             ],
             [
              1,
              "#f0f921"
             ]
            ],
            "type": "surface"
           }
          ],
          "table": [
           {
            "cells": {
             "fill": {
              "color": "#EBF0F8"
             },
             "line": {
              "color": "white"
             }
            },
            "header": {
             "fill": {
              "color": "#C8D4E3"
             },
             "line": {
              "color": "white"
             }
            },
            "type": "table"
           }
          ]
         },
         "layout": {
          "annotationdefaults": {
           "arrowcolor": "#2a3f5f",
           "arrowhead": 0,
           "arrowwidth": 1
          },
          "coloraxis": {
           "colorbar": {
            "outlinewidth": 0,
            "ticks": ""
           }
          },
          "colorscale": {
           "diverging": [
            [
             0,
             "#8e0152"
            ],
            [
             0.1,
             "#c51b7d"
            ],
            [
             0.2,
             "#de77ae"
            ],
            [
             0.3,
             "#f1b6da"
            ],
            [
             0.4,
             "#fde0ef"
            ],
            [
             0.5,
             "#f7f7f7"
            ],
            [
             0.6,
             "#e6f5d0"
            ],
            [
             0.7,
             "#b8e186"
            ],
            [
             0.8,
             "#7fbc41"
            ],
            [
             0.9,
             "#4d9221"
            ],
            [
             1,
             "#276419"
            ]
           ],
           "sequential": [
            [
             0,
             "#0d0887"
            ],
            [
             0.1111111111111111,
             "#46039f"
            ],
            [
             0.2222222222222222,
             "#7201a8"
            ],
            [
             0.3333333333333333,
             "#9c179e"
            ],
            [
             0.4444444444444444,
             "#bd3786"
            ],
            [
             0.5555555555555556,
             "#d8576b"
            ],
            [
             0.6666666666666666,
             "#ed7953"
            ],
            [
             0.7777777777777778,
             "#fb9f3a"
            ],
            [
             0.8888888888888888,
             "#fdca26"
            ],
            [
             1,
             "#f0f921"
            ]
           ],
           "sequentialminus": [
            [
             0,
             "#0d0887"
            ],
            [
             0.1111111111111111,
             "#46039f"
            ],
            [
             0.2222222222222222,
             "#7201a8"
            ],
            [
             0.3333333333333333,
             "#9c179e"
            ],
            [
             0.4444444444444444,
             "#bd3786"
            ],
            [
             0.5555555555555556,
             "#d8576b"
            ],
            [
             0.6666666666666666,
             "#ed7953"
            ],
            [
             0.7777777777777778,
             "#fb9f3a"
            ],
            [
             0.8888888888888888,
             "#fdca26"
            ],
            [
             1,
             "#f0f921"
            ]
           ]
          },
          "colorway": [
           "#636efa",
           "#EF553B",
           "#00cc96",
           "#ab63fa",
           "#FFA15A",
           "#19d3f3",
           "#FF6692",
           "#B6E880",
           "#FF97FF",
           "#FECB52"
          ],
          "font": {
           "color": "#2a3f5f"
          },
          "geo": {
           "bgcolor": "white",
           "lakecolor": "white",
           "landcolor": "#E5ECF6",
           "showlakes": true,
           "showland": true,
           "subunitcolor": "white"
          },
          "hoverlabel": {
           "align": "left"
          },
          "hovermode": "closest",
          "mapbox": {
           "style": "light"
          },
          "paper_bgcolor": "white",
          "plot_bgcolor": "#E5ECF6",
          "polar": {
           "angularaxis": {
            "gridcolor": "white",
            "linecolor": "white",
            "ticks": ""
           },
           "bgcolor": "#E5ECF6",
           "radialaxis": {
            "gridcolor": "white",
            "linecolor": "white",
            "ticks": ""
           }
          },
          "scene": {
           "xaxis": {
            "backgroundcolor": "#E5ECF6",
            "gridcolor": "white",
            "gridwidth": 2,
            "linecolor": "white",
            "showbackground": true,
            "ticks": "",
            "zerolinecolor": "white"
           },
           "yaxis": {
            "backgroundcolor": "#E5ECF6",
            "gridcolor": "white",
            "gridwidth": 2,
            "linecolor": "white",
            "showbackground": true,
            "ticks": "",
            "zerolinecolor": "white"
           },
           "zaxis": {
            "backgroundcolor": "#E5ECF6",
            "gridcolor": "white",
            "gridwidth": 2,
            "linecolor": "white",
            "showbackground": true,
            "ticks": "",
            "zerolinecolor": "white"
           }
          },
          "shapedefaults": {
           "line": {
            "color": "#2a3f5f"
           }
          },
          "ternary": {
           "aaxis": {
            "gridcolor": "white",
            "linecolor": "white",
            "ticks": ""
           },
           "baxis": {
            "gridcolor": "white",
            "linecolor": "white",
            "ticks": ""
           },
           "bgcolor": "#E5ECF6",
           "caxis": {
            "gridcolor": "white",
            "linecolor": "white",
            "ticks": ""
           }
          },
          "title": {
           "x": 0.05
          },
          "xaxis": {
           "automargin": true,
           "gridcolor": "white",
           "linecolor": "white",
           "ticks": "",
           "title": {
            "standoff": 15
           },
           "zerolinecolor": "white",
           "zerolinewidth": 2
          },
          "yaxis": {
           "automargin": true,
           "gridcolor": "white",
           "linecolor": "white",
           "ticks": "",
           "title": {
            "standoff": 15
           },
           "zerolinecolor": "white",
           "zerolinewidth": 2
          }
         }
        },
        "title": {
         "text": "Industry Cluster Bubble Chart for Ohio (relevant)",
         "x": 0.5
        },
        "xaxis": {
         "anchor": "y",
         "domain": [
          0,
          1
         ],
         "range": [
          -5,
          6
         ],
         "title": {
          "text": "Percent change in LQ (2015-2018)"
         }
        },
        "yaxis": {
         "anchor": "x",
         "domain": [
          0,
          1
         ],
         "range": [
          0.3,
          1.8
         ],
         "title": {
          "text": "LQ in 2018"
         }
        }
       }
      }
     },
     "metadata": {}
    }
   ],
   "source": [
    "# Interactive plots using plotly....hover over data point to see the observations\n",
    "ohio_bubble_filtered = px.scatter(\n",
    "    ohio_filtered,\n",
    "    x=\"Per_change_LQ\", y=\"LQ_2018\",\n",
    "    size=\"Eri_2018\", color=\"LQ_comparison\", hover_name=\"NAICS_Industry_Sector\", size_max=None)\n",
    "\n",
    "ohio_bubble_filtered.update_xaxes(range=[-5, 6])\n",
    "ohio_bubble_filtered.update_yaxes(range=[0.3, 1.8])\n",
    "# ohio_bubble_filtered.update_yaxes(nticks=7)\n",
    "\n",
    "# Add shapes\n",
    "ohio_bubble_filtered.add_shape(\n",
    "    # Line Vertical\n",
    "    dict(type=\"line\", x0=0, y0=0, x1=0, y1=2, line=dict(color=\"Black\", width=0.4)))\n",
    "\n",
    "ohio_bubble_filtered.add_shape(\n",
    "    # Line Horizontal\n",
    "    type=\"line\", x0=-10, y0=1, x1=10, y1=1, line=dict(color=\"Black\", width=0.4))\n",
    "\n",
    "ohio_bubble_filtered.update_layout(\n",
    "    hoverlabel=dict(bgcolor='white', font=dict(color='black')),\n",
    "    title='Industry Cluster Bubble Chart for Ohio (relevant)', \n",
    "    title_x=0.5, #center alignment for title\n",
    "    xaxis_title=\"Percent change in LQ (2015-2018)\",\n",
    "    yaxis_title=\"LQ in 2018\",\n",
    "    font=dict(family=\"Helvetica\", size=14, color=\"black\"),\n",
    "    # plot_bgcolor='rgba(0,0,0,0)', paper_bgcolor='rgba(0,0,0,0)' #for background color for graph and plot\n",
    "    # showlegend=False # to hide the legend\n",
    ")\n",
    "\n",
    "ohio_bubble_filtered.show() # print the figure"
   ]
  },
  {
   "cell_type": "code",
   "execution_count": 9,
   "metadata": {},
   "outputs": [
    {
     "output_type": "display_data",
     "data": {
      "application/vnd.plotly.v1+json": {
       "config": {
        "plotlyServerURL": "https://plot.ly"
       },
       "data": [
        {
         "hovertemplate": "<b>%{hovertext}</b><br><br>LQ_comparison=LQ<1<br>Per_change_LQ=%{x}<br>LQ_2018=%{y}<br>Eri_2018=%{marker.size}<extra></extra>",
         "hovertext": [
          "Agriculture, forestry, fishing and hunting",
          "Mining, quarrying, and oil and gas extraction",
          "Utilities",
          "Construction",
          "Retail trade",
          "Information",
          "Real estate and rental and leasing",
          "Professional and technical services",
          "Administrative and waste services",
          "Educational services",
          "Arts, entertainment, and recreation",
          "Accommodation and food services",
          "Other services, except public administration"
         ],
         "legendgroup": "LQ<1",
         "marker": {
          "color": "#636efa",
          "size": [
           16662,
           11859,
           19110,
           220709,
           563820,
           70930,
           64155,
           262870,
           325830,
           95539,
           81785,
           484896,
           156685
          ],
          "sizemode": "area",
          "sizeref": 2021.505,
          "symbol": "circle"
         },
         "mode": "markers",
         "name": "LQ<1",
         "showlegend": true,
         "type": "scatter",
         "x": [
          5.88,
          -2.04,
          2.17,
          0,
          0,
          -1.44,
          -1.26,
          0,
          -3.06,
          -4.3,
          -1.05,
          0,
          0
         ],
         "xaxis": "x",
         "y": [
          0.36,
          0.48,
          0.94,
          0.83,
          0.97,
          0.68,
          0.78,
          0.77,
          0.95,
          0.89,
          0.94,
          0.95,
          0.94
         ],
         "yaxis": "y"
        },
        {
         "hovertemplate": "<b>%{hovertext}</b><br><br>LQ_comparison=LQ>1<br>Per_change_LQ=%{x}<br>LQ_2018=%{y}<br>Eri_2018=%{marker.size}<extra></extra>",
         "hovertext": [
          "Manufacturing",
          "Wholesale trade",
          "Transportation and warehousing",
          "Finance and insurance",
          "Management of companies and enterprises",
          "Health care and social assistance"
         ],
         "legendgroup": "LQ>1",
         "marker": {
          "color": "#EF553B",
          "size": [
           698950,
           234789,
           199530,
           229394,
           140729,
           808602
          ],
          "sizemode": "area",
          "sizeref": 2021.505,
          "symbol": "circle"
         },
         "mode": "markers",
         "name": "LQ>1",
         "showlegend": true,
         "type": "scatter",
         "x": [
          0.67,
          1.88,
          0,
          5.05,
          -3.57,
          -0.89
         ],
         "xaxis": "x",
         "y": [
          1.49,
          1.08,
          1.04,
          1.04,
          1.62,
          1.11
         ],
         "yaxis": "y"
        }
       ],
       "layout": {
        "annotations": [
         {
          "ax": 15,
          "ay": -20,
          "font": {
           "size": 8
          },
          "text": "Mgmnt of companies/enterprises",
          "x": -3.57,
          "xref": "x",
          "y": 1.62,
          "yref": "y"
         },
         {
          "ax": 15,
          "ay": -20,
          "font": {
           "size": 8
          },
          "text": "Manufacturing",
          "x": 0.67,
          "xref": "x",
          "y": 1.49,
          "yref": "y"
         },
         {
          "ax": 15,
          "ay": -20,
          "font": {
           "size": 8
          },
          "text": "Agr,forestry,fishery,hunting",
          "x": 5.88,
          "xref": "x",
          "y": 0.36,
          "yref": "y"
         },
         {
          "ax": 15,
          "ay": -20,
          "font": {
           "size": 8
          },
          "text": "Wholesale trade",
          "x": 1.88,
          "xref": "x",
          "y": 1.08,
          "yref": "y"
         },
         {
          "ax": 15,
          "ay": -20,
          "font": {
           "size": 8
          },
          "text": "Finance&Insurance",
          "x": 5.05,
          "xref": "x",
          "y": 1.04,
          "yref": "y"
         },
         {
          "ax": 15,
          "ay": -20,
          "font": {
           "size": 8
          },
          "text": "Healthcare&SocialAssistance",
          "x": -0.89,
          "xref": "x",
          "y": 1.11,
          "yref": "y"
         },
         {
          "ax": 15,
          "ay": -20,
          "font": {
           "size": 8
          },
          "text": "Administrative & waste service",
          "x": -3.06,
          "xref": "x",
          "y": 0.95,
          "yref": "y"
         },
         {
          "ax": 15,
          "ay": -20,
          "font": {
           "size": 8
          },
          "text": "Transportation & warehousing",
          "x": 0,
          "xref": "x",
          "y": 1.04,
          "yref": "y"
         }
        ],
        "font": {
         "color": "black",
         "family": "Helvetica",
         "size": 14
        },
        "hoverlabel": {
         "bgcolor": "white",
         "font": {
          "color": "black"
         }
        },
        "legend": {
         "itemsizing": "constant",
         "title": {
          "text": "LQ_comparison"
         },
         "tracegroupgap": 0
        },
        "margin": {
         "t": 60
        },
        "shapes": [
         {
          "line": {
           "color": "Black",
           "width": 0.4
          },
          "type": "line",
          "x0": 0,
          "x1": 0,
          "y0": 0,
          "y1": 2
         },
         {
          "line": {
           "color": "Black",
           "width": 0.4
          },
          "type": "line",
          "x0": -10,
          "x1": 10,
          "y0": 1,
          "y1": 1
         }
        ],
        "template": {
         "data": {
          "bar": [
           {
            "error_x": {
             "color": "#2a3f5f"
            },
            "error_y": {
             "color": "#2a3f5f"
            },
            "marker": {
             "line": {
              "color": "#E5ECF6",
              "width": 0.5
             }
            },
            "type": "bar"
           }
          ],
          "barpolar": [
           {
            "marker": {
             "line": {
              "color": "#E5ECF6",
              "width": 0.5
             }
            },
            "type": "barpolar"
           }
          ],
          "carpet": [
           {
            "aaxis": {
             "endlinecolor": "#2a3f5f",
             "gridcolor": "white",
             "linecolor": "white",
             "minorgridcolor": "white",
             "startlinecolor": "#2a3f5f"
            },
            "baxis": {
             "endlinecolor": "#2a3f5f",
             "gridcolor": "white",
             "linecolor": "white",
             "minorgridcolor": "white",
             "startlinecolor": "#2a3f5f"
            },
            "type": "carpet"
           }
          ],
          "choropleth": [
           {
            "colorbar": {
             "outlinewidth": 0,
             "ticks": ""
            },
            "type": "choropleth"
           }
          ],
          "contour": [
           {
            "colorbar": {
             "outlinewidth": 0,
             "ticks": ""
            },
            "colorscale": [
             [
              0,
              "#0d0887"
             ],
             [
              0.1111111111111111,
              "#46039f"
             ],
             [
              0.2222222222222222,
              "#7201a8"
             ],
             [
              0.3333333333333333,
              "#9c179e"
             ],
             [
              0.4444444444444444,
              "#bd3786"
             ],
             [
              0.5555555555555556,
              "#d8576b"
             ],
             [
              0.6666666666666666,
              "#ed7953"
             ],
             [
              0.7777777777777778,
              "#fb9f3a"
             ],
             [
              0.8888888888888888,
              "#fdca26"
             ],
             [
              1,
              "#f0f921"
             ]
            ],
            "type": "contour"
           }
          ],
          "contourcarpet": [
           {
            "colorbar": {
             "outlinewidth": 0,
             "ticks": ""
            },
            "type": "contourcarpet"
           }
          ],
          "heatmap": [
           {
            "colorbar": {
             "outlinewidth": 0,
             "ticks": ""
            },
            "colorscale": [
             [
              0,
              "#0d0887"
             ],
             [
              0.1111111111111111,
              "#46039f"
             ],
             [
              0.2222222222222222,
              "#7201a8"
             ],
             [
              0.3333333333333333,
              "#9c179e"
             ],
             [
              0.4444444444444444,
              "#bd3786"
             ],
             [
              0.5555555555555556,
              "#d8576b"
             ],
             [
              0.6666666666666666,
              "#ed7953"
             ],
             [
              0.7777777777777778,
              "#fb9f3a"
             ],
             [
              0.8888888888888888,
              "#fdca26"
             ],
             [
              1,
              "#f0f921"
             ]
            ],
            "type": "heatmap"
           }
          ],
          "heatmapgl": [
           {
            "colorbar": {
             "outlinewidth": 0,
             "ticks": ""
            },
            "colorscale": [
             [
              0,
              "#0d0887"
             ],
             [
              0.1111111111111111,
              "#46039f"
             ],
             [
              0.2222222222222222,
              "#7201a8"
             ],
             [
              0.3333333333333333,
              "#9c179e"
             ],
             [
              0.4444444444444444,
              "#bd3786"
             ],
             [
              0.5555555555555556,
              "#d8576b"
             ],
             [
              0.6666666666666666,
              "#ed7953"
             ],
             [
              0.7777777777777778,
              "#fb9f3a"
             ],
             [
              0.8888888888888888,
              "#fdca26"
             ],
             [
              1,
              "#f0f921"
             ]
            ],
            "type": "heatmapgl"
           }
          ],
          "histogram": [
           {
            "marker": {
             "colorbar": {
              "outlinewidth": 0,
              "ticks": ""
             }
            },
            "type": "histogram"
           }
          ],
          "histogram2d": [
           {
            "colorbar": {
             "outlinewidth": 0,
             "ticks": ""
            },
            "colorscale": [
             [
              0,
              "#0d0887"
             ],
             [
              0.1111111111111111,
              "#46039f"
             ],
             [
              0.2222222222222222,
              "#7201a8"
             ],
             [
              0.3333333333333333,
              "#9c179e"
             ],
             [
              0.4444444444444444,
              "#bd3786"
             ],
             [
              0.5555555555555556,
              "#d8576b"
             ],
             [
              0.6666666666666666,
              "#ed7953"
             ],
             [
              0.7777777777777778,
              "#fb9f3a"
             ],
             [
              0.8888888888888888,
              "#fdca26"
             ],
             [
              1,
              "#f0f921"
             ]
            ],
            "type": "histogram2d"
           }
          ],
          "histogram2dcontour": [
           {
            "colorbar": {
             "outlinewidth": 0,
             "ticks": ""
            },
            "colorscale": [
             [
              0,
              "#0d0887"
             ],
             [
              0.1111111111111111,
              "#46039f"
             ],
             [
              0.2222222222222222,
              "#7201a8"
             ],
             [
              0.3333333333333333,
              "#9c179e"
             ],
             [
              0.4444444444444444,
              "#bd3786"
             ],
             [
              0.5555555555555556,
              "#d8576b"
             ],
             [
              0.6666666666666666,
              "#ed7953"
             ],
             [
              0.7777777777777778,
              "#fb9f3a"
             ],
             [
              0.8888888888888888,
              "#fdca26"
             ],
             [
              1,
              "#f0f921"
             ]
            ],
            "type": "histogram2dcontour"
           }
          ],
          "mesh3d": [
           {
            "colorbar": {
             "outlinewidth": 0,
             "ticks": ""
            },
            "type": "mesh3d"
           }
          ],
          "parcoords": [
           {
            "line": {
             "colorbar": {
              "outlinewidth": 0,
              "ticks": ""
             }
            },
            "type": "parcoords"
           }
          ],
          "pie": [
           {
            "automargin": true,
            "type": "pie"
           }
          ],
          "scatter": [
           {
            "marker": {
             "colorbar": {
              "outlinewidth": 0,
              "ticks": ""
             }
            },
            "type": "scatter"
           }
          ],
          "scatter3d": [
           {
            "line": {
             "colorbar": {
              "outlinewidth": 0,
              "ticks": ""
             }
            },
            "marker": {
             "colorbar": {
              "outlinewidth": 0,
              "ticks": ""
             }
            },
            "type": "scatter3d"
           }
          ],
          "scattercarpet": [
           {
            "marker": {
             "colorbar": {
              "outlinewidth": 0,
              "ticks": ""
             }
            },
            "type": "scattercarpet"
           }
          ],
          "scattergeo": [
           {
            "marker": {
             "colorbar": {
              "outlinewidth": 0,
              "ticks": ""
             }
            },
            "type": "scattergeo"
           }
          ],
          "scattergl": [
           {
            "marker": {
             "colorbar": {
              "outlinewidth": 0,
              "ticks": ""
             }
            },
            "type": "scattergl"
           }
          ],
          "scattermapbox": [
           {
            "marker": {
             "colorbar": {
              "outlinewidth": 0,
              "ticks": ""
             }
            },
            "type": "scattermapbox"
           }
          ],
          "scatterpolar": [
           {
            "marker": {
             "colorbar": {
              "outlinewidth": 0,
              "ticks": ""
             }
            },
            "type": "scatterpolar"
           }
          ],
          "scatterpolargl": [
           {
            "marker": {
             "colorbar": {
              "outlinewidth": 0,
              "ticks": ""
             }
            },
            "type": "scatterpolargl"
           }
          ],
          "scatterternary": [
           {
            "marker": {
             "colorbar": {
              "outlinewidth": 0,
              "ticks": ""
             }
            },
            "type": "scatterternary"
           }
          ],
          "surface": [
           {
            "colorbar": {
             "outlinewidth": 0,
             "ticks": ""
            },
            "colorscale": [
             [
              0,
              "#0d0887"
             ],
             [
              0.1111111111111111,
              "#46039f"
             ],
             [
              0.2222222222222222,
              "#7201a8"
             ],
             [
              0.3333333333333333,
              "#9c179e"
             ],
             [
              0.4444444444444444,
              "#bd3786"
             ],
             [
              0.5555555555555556,
              "#d8576b"
             ],
             [
              0.6666666666666666,
              "#ed7953"
             ],
             [
              0.7777777777777778,
              "#fb9f3a"
             ],
             [
              0.8888888888888888,
              "#fdca26"
             ],
             [
              1,
              "#f0f921"
             ]
            ],
            "type": "surface"
           }
          ],
          "table": [
           {
            "cells": {
             "fill": {
              "color": "#EBF0F8"
             },
             "line": {
              "color": "white"
             }
            },
            "header": {
             "fill": {
              "color": "#C8D4E3"
             },
             "line": {
              "color": "white"
             }
            },
            "type": "table"
           }
          ]
         },
         "layout": {
          "annotationdefaults": {
           "arrowcolor": "#2a3f5f",
           "arrowhead": 0,
           "arrowwidth": 1
          },
          "coloraxis": {
           "colorbar": {
            "outlinewidth": 0,
            "ticks": ""
           }
          },
          "colorscale": {
           "diverging": [
            [
             0,
             "#8e0152"
            ],
            [
             0.1,
             "#c51b7d"
            ],
            [
             0.2,
             "#de77ae"
            ],
            [
             0.3,
             "#f1b6da"
            ],
            [
             0.4,
             "#fde0ef"
            ],
            [
             0.5,
             "#f7f7f7"
            ],
            [
             0.6,
             "#e6f5d0"
            ],
            [
             0.7,
             "#b8e186"
            ],
            [
             0.8,
             "#7fbc41"
            ],
            [
             0.9,
             "#4d9221"
            ],
            [
             1,
             "#276419"
            ]
           ],
           "sequential": [
            [
             0,
             "#0d0887"
            ],
            [
             0.1111111111111111,
             "#46039f"
            ],
            [
             0.2222222222222222,
             "#7201a8"
            ],
            [
             0.3333333333333333,
             "#9c179e"
            ],
            [
             0.4444444444444444,
             "#bd3786"
            ],
            [
             0.5555555555555556,
             "#d8576b"
            ],
            [
             0.6666666666666666,
             "#ed7953"
            ],
            [
             0.7777777777777778,
             "#fb9f3a"
            ],
            [
             0.8888888888888888,
             "#fdca26"
            ],
            [
             1,
             "#f0f921"
            ]
           ],
           "sequentialminus": [
            [
             0,
             "#0d0887"
            ],
            [
             0.1111111111111111,
             "#46039f"
            ],
            [
             0.2222222222222222,
             "#7201a8"
            ],
            [
             0.3333333333333333,
             "#9c179e"
            ],
            [
             0.4444444444444444,
             "#bd3786"
            ],
            [
             0.5555555555555556,
             "#d8576b"
            ],
            [
             0.6666666666666666,
             "#ed7953"
            ],
            [
             0.7777777777777778,
             "#fb9f3a"
            ],
            [
             0.8888888888888888,
             "#fdca26"
            ],
            [
             1,
             "#f0f921"
            ]
           ]
          },
          "colorway": [
           "#636efa",
           "#EF553B",
           "#00cc96",
           "#ab63fa",
           "#FFA15A",
           "#19d3f3",
           "#FF6692",
           "#B6E880",
           "#FF97FF",
           "#FECB52"
          ],
          "font": {
           "color": "#2a3f5f"
          },
          "geo": {
           "bgcolor": "white",
           "lakecolor": "white",
           "landcolor": "#E5ECF6",
           "showlakes": true,
           "showland": true,
           "subunitcolor": "white"
          },
          "hoverlabel": {
           "align": "left"
          },
          "hovermode": "closest",
          "mapbox": {
           "style": "light"
          },
          "paper_bgcolor": "white",
          "plot_bgcolor": "#E5ECF6",
          "polar": {
           "angularaxis": {
            "gridcolor": "white",
            "linecolor": "white",
            "ticks": ""
           },
           "bgcolor": "#E5ECF6",
           "radialaxis": {
            "gridcolor": "white",
            "linecolor": "white",
            "ticks": ""
           }
          },
          "scene": {
           "xaxis": {
            "backgroundcolor": "#E5ECF6",
            "gridcolor": "white",
            "gridwidth": 2,
            "linecolor": "white",
            "showbackground": true,
            "ticks": "",
            "zerolinecolor": "white"
           },
           "yaxis": {
            "backgroundcolor": "#E5ECF6",
            "gridcolor": "white",
            "gridwidth": 2,
            "linecolor": "white",
            "showbackground": true,
            "ticks": "",
            "zerolinecolor": "white"
           },
           "zaxis": {
            "backgroundcolor": "#E5ECF6",
            "gridcolor": "white",
            "gridwidth": 2,
            "linecolor": "white",
            "showbackground": true,
            "ticks": "",
            "zerolinecolor": "white"
           }
          },
          "shapedefaults": {
           "line": {
            "color": "#2a3f5f"
           }
          },
          "ternary": {
           "aaxis": {
            "gridcolor": "white",
            "linecolor": "white",
            "ticks": ""
           },
           "baxis": {
            "gridcolor": "white",
            "linecolor": "white",
            "ticks": ""
           },
           "bgcolor": "#E5ECF6",
           "caxis": {
            "gridcolor": "white",
            "linecolor": "white",
            "ticks": ""
           }
          },
          "title": {
           "x": 0.05
          },
          "xaxis": {
           "automargin": true,
           "gridcolor": "white",
           "linecolor": "white",
           "ticks": "",
           "title": {
            "standoff": 15
           },
           "zerolinecolor": "white",
           "zerolinewidth": 2
          },
          "yaxis": {
           "automargin": true,
           "gridcolor": "white",
           "linecolor": "white",
           "ticks": "",
           "title": {
            "standoff": 15
           },
           "zerolinecolor": "white",
           "zerolinewidth": 2
          }
         }
        },
        "title": {
         "text": "Industry Cluster Bubble Chart for Ohio (relevant)",
         "x": 0.5
        },
        "xaxis": {
         "anchor": "y",
         "domain": [
          0,
          1
         ],
         "range": [
          -5,
          6
         ],
         "title": {
          "text": "Percent change in LQ (2015-2018)"
         }
        },
        "yaxis": {
         "anchor": "x",
         "domain": [
          0,
          1
         ],
         "range": [
          0.3,
          1.8
         ],
         "title": {
          "text": "LQ in 2018"
         }
        }
       }
      }
     },
     "metadata": {}
    }
   ],
   "source": [
    "# Adding muliple Annotation to the figure\n",
    "ohio_bubble_filtered.add_annotation(\n",
    "    x=-3.57, y=1.62, text=\"Mgmnt of companies/enterprises\")\n",
    "ohio_bubble_filtered.add_annotation(\n",
    "    x=0.67, y=1.49, text=\"Manufacturing\")\n",
    "ohio_bubble_filtered.add_annotation(\n",
    "    x=5.88, y=0.36, text=\"Agr,forestry,fishery,hunting\")\n",
    "ohio_bubble_filtered.add_annotation(\n",
    "    x=1.88, y=1.08, text=\"Wholesale trade\")\n",
    "ohio_bubble_filtered.add_annotation(\n",
    "    x=5.05, y=1.04, text=\"Finance&Insurance\")\n",
    "ohio_bubble_filtered.add_annotation(\n",
    "    x=-0.89, y=1.11, text=\"Healthcare&SocialAssistance\")\n",
    "ohio_bubble_filtered.add_annotation(\n",
    "    x=-3.06, y=0.95, text=\"Administrative & waste service\")\n",
    "ohio_bubble_filtered.add_annotation(\n",
    "    x=-0, y=1.04, text=\"Transportation & warehousing\")\n",
    "\n",
    "\n",
    "ohio_bubble_filtered.update_annotations(dict(\n",
    "    xref=\"x\", yref=\"y\", font=dict(size=8),\n",
    "    # showarrow=True,\n",
    "    # arrowhead=7,\n",
    "    ax=15, ay=-20  # location of text on the coordinates\n",
    "))\n",
    "\n",
    "ohio_bubble_filtered.show()  # print the figure \n",
    "#hover over the picture to see the text"
   ]
  },
  {
   "cell_type": "code",
   "execution_count": 10,
   "metadata": {},
   "outputs": [],
   "source": [
    "# Saves the file in pdf format (pdf format saves resolution of picture)\n",
    "# Do you want the application “orca.app” to accept incoming network connections? Allow\n",
    "ohio_bubble_filtered.write_image(\"./cluster_chart/ohio_bubble_filtered.pdf\")"
   ]
  },
  {
   "cell_type": "markdown",
   "metadata": {},
   "source": [
    "# FOR ADAM COUNTY\n"
   ]
  },
  {
   "cell_type": "code",
   "execution_count": 11,
   "metadata": {},
   "outputs": [],
   "source": [
    "# creating new variable LQ_comparison with national average\n",
    "lq = []\n",
    "for value in adam_data[\"LQ_2018\"]:\n",
    "    if value > 1:\n",
    "        lq.append(\"LQ>1\")\n",
    "    elif value == 0:\n",
    "        lq.append(\"LQ=1\")\n",
    "    else:\n",
    "        lq.append(\"LQ<1\")\n",
    "\n",
    "adam_data[\"LQ_comparison\"] = lq"
   ]
  },
  {
   "cell_type": "code",
   "execution_count": 12,
   "metadata": {},
   "outputs": [
    {
     "output_type": "execute_result",
     "data": {
      "text/plain": "                NAICS Sector NAICS Code Sector NAICS_Industry_Sector  \\\n0         NAICS 22 Utilities          NAICS 22             Utilities   \n1      NAICS 23 Construction          NAICS 23          Construction   \n2  NAICS 31-33 Manufacturing       NAICS 31-33         Manufacturing   \n3   NAICS 42 Wholesale trade          NAICS 42       Wholesale trade   \n4   NAICS 44-45 Retail trade       NAICS 44-45          Retail trade   \n\n   Eri_2018  Eri_2015  Change_Eri  Per_change_Eri  LQ_2018  LQ_2015  \\\n0       139       149         -10            -6.7     6.06     6.47   \n1       264       150         114            76.0     0.88     0.56   \n2       856       718         138            19.2     1.63     1.40   \n3       254       232          22             9.4     1.04     0.95   \n4       866       886         -20            -2.2     1.32     1.36   \n\n   Per_change_LQ LQ_comparison  \n0           -6.3          LQ>1  \n1           57.1          LQ<1  \n2           16.4          LQ>1  \n3            9.4          LQ>1  \n4           -2.9          LQ>1  ",
      "text/html": "<div>\n<style scoped>\n    .dataframe tbody tr th:only-of-type {\n        vertical-align: middle;\n    }\n\n    .dataframe tbody tr th {\n        vertical-align: top;\n    }\n\n    .dataframe thead th {\n        text-align: right;\n    }\n</style>\n<table border=\"1\" class=\"dataframe\">\n  <thead>\n    <tr style=\"text-align: right;\">\n      <th></th>\n      <th>NAICS Sector</th>\n      <th>NAICS Code Sector</th>\n      <th>NAICS_Industry_Sector</th>\n      <th>Eri_2018</th>\n      <th>Eri_2015</th>\n      <th>Change_Eri</th>\n      <th>Per_change_Eri</th>\n      <th>LQ_2018</th>\n      <th>LQ_2015</th>\n      <th>Per_change_LQ</th>\n      <th>LQ_comparison</th>\n    </tr>\n  </thead>\n  <tbody>\n    <tr>\n      <th>0</th>\n      <td>NAICS 22 Utilities</td>\n      <td>NAICS 22</td>\n      <td>Utilities</td>\n      <td>139</td>\n      <td>149</td>\n      <td>-10</td>\n      <td>-6.7</td>\n      <td>6.06</td>\n      <td>6.47</td>\n      <td>-6.3</td>\n      <td>LQ&gt;1</td>\n    </tr>\n    <tr>\n      <th>1</th>\n      <td>NAICS 23 Construction</td>\n      <td>NAICS 23</td>\n      <td>Construction</td>\n      <td>264</td>\n      <td>150</td>\n      <td>114</td>\n      <td>76.0</td>\n      <td>0.88</td>\n      <td>0.56</td>\n      <td>57.1</td>\n      <td>LQ&lt;1</td>\n    </tr>\n    <tr>\n      <th>2</th>\n      <td>NAICS 31-33 Manufacturing</td>\n      <td>NAICS 31-33</td>\n      <td>Manufacturing</td>\n      <td>856</td>\n      <td>718</td>\n      <td>138</td>\n      <td>19.2</td>\n      <td>1.63</td>\n      <td>1.40</td>\n      <td>16.4</td>\n      <td>LQ&gt;1</td>\n    </tr>\n    <tr>\n      <th>3</th>\n      <td>NAICS 42 Wholesale trade</td>\n      <td>NAICS 42</td>\n      <td>Wholesale trade</td>\n      <td>254</td>\n      <td>232</td>\n      <td>22</td>\n      <td>9.4</td>\n      <td>1.04</td>\n      <td>0.95</td>\n      <td>9.4</td>\n      <td>LQ&gt;1</td>\n    </tr>\n    <tr>\n      <th>4</th>\n      <td>NAICS 44-45 Retail trade</td>\n      <td>NAICS 44-45</td>\n      <td>Retail trade</td>\n      <td>866</td>\n      <td>886</td>\n      <td>-20</td>\n      <td>-2.2</td>\n      <td>1.32</td>\n      <td>1.36</td>\n      <td>-2.9</td>\n      <td>LQ&gt;1</td>\n    </tr>\n  </tbody>\n</table>\n</div>"
     },
     "metadata": {},
     "execution_count": 12
    }
   ],
   "source": [
    "adam_data.head()"
   ]
  },
  {
   "cell_type": "code",
   "execution_count": 13,
   "metadata": {},
   "outputs": [
    {
     "output_type": "display_data",
     "data": {
      "application/vnd.plotly.v1+json": {
       "config": {
        "plotlyServerURL": "https://plot.ly"
       },
       "data": [
        {
         "hovertemplate": "<b>%{hovertext}</b><br><br>LQ_comparison=LQ>1<br>Per_change_LQ=%{x}<br>LQ_2018=%{y}<br>Eri_2018=%{marker.size}<extra></extra>",
         "hovertext": [
          "Utilities",
          "Manufacturing",
          "Wholesale trade",
          "Retail trade",
          "Health care and social assistance"
         ],
         "legendgroup": "LQ>1",
         "marker": {
          "color": "#636efa",
          "size": [
           139,
           856,
           254,
           866,
           830
          ],
          "sizemode": "area",
          "sizeref": 2.165,
          "symbol": "circle"
         },
         "mode": "markers",
         "name": "LQ>1",
         "showlegend": true,
         "type": "scatter",
         "x": [
          -6.3,
          16.4,
          9.4,
          -2.9,
          -12.9
         ],
         "xaxis": "x",
         "y": [
          6.06,
          1.63,
          1.04,
          1.32,
          1.01
         ],
         "yaxis": "y"
        },
        {
         "hovertemplate": "<b>%{hovertext}</b><br><br>LQ_comparison=LQ<1<br>Per_change_LQ=%{x}<br>LQ_2018=%{y}<br>Eri_2018=%{marker.size}<extra></extra>",
         "hovertext": [
          "Construction",
          "Transportation and warehousing",
          "Information",
          "Finance and insurance",
          "Real estate and rental and leasing",
          "Administrative and waste services",
          "Educational services",
          "Arts, entertainment, and recreation",
          "Accommodation and food services",
          "Other services, except public administration"
         ],
         "legendgroup": "LQ<1",
         "marker": {
          "color": "#EF553B",
          "size": [
           264,
           47,
           29,
           189,
           40,
           214,
           14,
           27,
           498,
           96
          ],
          "sizemode": "area",
          "sizeref": 2.165,
          "symbol": "circle"
         },
         "mode": "markers",
         "name": "LQ<1",
         "showlegend": true,
         "type": "scatter",
         "x": [
          57.1,
          0,
          -21.8,
          10.1,
          0,
          69.6,
          200,
          0,
          -17.9,
          -16.3
         ],
         "xaxis": "x",
         "y": [
          0.88,
          0.22,
          0.25,
          0.76,
          0.43,
          0.56,
          0.12,
          0.28,
          0.87,
          0.51
         ],
         "yaxis": "y"
        }
       ],
       "layout": {
        "annotations": [
         {
          "ax": 15,
          "ay": -20,
          "font": {
           "size": 12
          },
          "text": "Educational Services",
          "x": 200,
          "xref": "x",
          "y": 0.12,
          "yref": "y"
         },
         {
          "ax": 15,
          "ay": -20,
          "font": {
           "size": 12
          },
          "text": "Utilities",
          "x": -6.3,
          "xref": "x",
          "y": 6.06,
          "yref": "y"
         }
        ],
        "font": {
         "color": "black",
         "family": "Helvetica",
         "size": 14
        },
        "hoverlabel": {
         "bgcolor": "white",
         "font": {
          "color": "black"
         }
        },
        "legend": {
         "itemsizing": "constant",
         "title": {
          "text": "LQ_comparison"
         },
         "tracegroupgap": 0
        },
        "margin": {
         "t": 60
        },
        "shapes": [
         {
          "line": {
           "color": "Black",
           "width": 0.4
          },
          "type": "line",
          "x0": 0,
          "x1": 0,
          "y0": 0,
          "y1": 6.5
         },
         {
          "line": {
           "color": "Black",
           "width": 0.4
          },
          "type": "line",
          "x0": -50,
          "x1": 220,
          "y0": 1,
          "y1": 1
         }
        ],
        "template": {
         "data": {
          "bar": [
           {
            "error_x": {
             "color": "#2a3f5f"
            },
            "error_y": {
             "color": "#2a3f5f"
            },
            "marker": {
             "line": {
              "color": "#E5ECF6",
              "width": 0.5
             }
            },
            "type": "bar"
           }
          ],
          "barpolar": [
           {
            "marker": {
             "line": {
              "color": "#E5ECF6",
              "width": 0.5
             }
            },
            "type": "barpolar"
           }
          ],
          "carpet": [
           {
            "aaxis": {
             "endlinecolor": "#2a3f5f",
             "gridcolor": "white",
             "linecolor": "white",
             "minorgridcolor": "white",
             "startlinecolor": "#2a3f5f"
            },
            "baxis": {
             "endlinecolor": "#2a3f5f",
             "gridcolor": "white",
             "linecolor": "white",
             "minorgridcolor": "white",
             "startlinecolor": "#2a3f5f"
            },
            "type": "carpet"
           }
          ],
          "choropleth": [
           {
            "colorbar": {
             "outlinewidth": 0,
             "ticks": ""
            },
            "type": "choropleth"
           }
          ],
          "contour": [
           {
            "colorbar": {
             "outlinewidth": 0,
             "ticks": ""
            },
            "colorscale": [
             [
              0,
              "#0d0887"
             ],
             [
              0.1111111111111111,
              "#46039f"
             ],
             [
              0.2222222222222222,
              "#7201a8"
             ],
             [
              0.3333333333333333,
              "#9c179e"
             ],
             [
              0.4444444444444444,
              "#bd3786"
             ],
             [
              0.5555555555555556,
              "#d8576b"
             ],
             [
              0.6666666666666666,
              "#ed7953"
             ],
             [
              0.7777777777777778,
              "#fb9f3a"
             ],
             [
              0.8888888888888888,
              "#fdca26"
             ],
             [
              1,
              "#f0f921"
             ]
            ],
            "type": "contour"
           }
          ],
          "contourcarpet": [
           {
            "colorbar": {
             "outlinewidth": 0,
             "ticks": ""
            },
            "type": "contourcarpet"
           }
          ],
          "heatmap": [
           {
            "colorbar": {
             "outlinewidth": 0,
             "ticks": ""
            },
            "colorscale": [
             [
              0,
              "#0d0887"
             ],
             [
              0.1111111111111111,
              "#46039f"
             ],
             [
              0.2222222222222222,
              "#7201a8"
             ],
             [
              0.3333333333333333,
              "#9c179e"
             ],
             [
              0.4444444444444444,
              "#bd3786"
             ],
             [
              0.5555555555555556,
              "#d8576b"
             ],
             [
              0.6666666666666666,
              "#ed7953"
             ],
             [
              0.7777777777777778,
              "#fb9f3a"
             ],
             [
              0.8888888888888888,
              "#fdca26"
             ],
             [
              1,
              "#f0f921"
             ]
            ],
            "type": "heatmap"
           }
          ],
          "heatmapgl": [
           {
            "colorbar": {
             "outlinewidth": 0,
             "ticks": ""
            },
            "colorscale": [
             [
              0,
              "#0d0887"
             ],
             [
              0.1111111111111111,
              "#46039f"
             ],
             [
              0.2222222222222222,
              "#7201a8"
             ],
             [
              0.3333333333333333,
              "#9c179e"
             ],
             [
              0.4444444444444444,
              "#bd3786"
             ],
             [
              0.5555555555555556,
              "#d8576b"
             ],
             [
              0.6666666666666666,
              "#ed7953"
             ],
             [
              0.7777777777777778,
              "#fb9f3a"
             ],
             [
              0.8888888888888888,
              "#fdca26"
             ],
             [
              1,
              "#f0f921"
             ]
            ],
            "type": "heatmapgl"
           }
          ],
          "histogram": [
           {
            "marker": {
             "colorbar": {
              "outlinewidth": 0,
              "ticks": ""
             }
            },
            "type": "histogram"
           }
          ],
          "histogram2d": [
           {
            "colorbar": {
             "outlinewidth": 0,
             "ticks": ""
            },
            "colorscale": [
             [
              0,
              "#0d0887"
             ],
             [
              0.1111111111111111,
              "#46039f"
             ],
             [
              0.2222222222222222,
              "#7201a8"
             ],
             [
              0.3333333333333333,
              "#9c179e"
             ],
             [
              0.4444444444444444,
              "#bd3786"
             ],
             [
              0.5555555555555556,
              "#d8576b"
             ],
             [
              0.6666666666666666,
              "#ed7953"
             ],
             [
              0.7777777777777778,
              "#fb9f3a"
             ],
             [
              0.8888888888888888,
              "#fdca26"
             ],
             [
              1,
              "#f0f921"
             ]
            ],
            "type": "histogram2d"
           }
          ],
          "histogram2dcontour": [
           {
            "colorbar": {
             "outlinewidth": 0,
             "ticks": ""
            },
            "colorscale": [
             [
              0,
              "#0d0887"
             ],
             [
              0.1111111111111111,
              "#46039f"
             ],
             [
              0.2222222222222222,
              "#7201a8"
             ],
             [
              0.3333333333333333,
              "#9c179e"
             ],
             [
              0.4444444444444444,
              "#bd3786"
             ],
             [
              0.5555555555555556,
              "#d8576b"
             ],
             [
              0.6666666666666666,
              "#ed7953"
             ],
             [
              0.7777777777777778,
              "#fb9f3a"
             ],
             [
              0.8888888888888888,
              "#fdca26"
             ],
             [
              1,
              "#f0f921"
             ]
            ],
            "type": "histogram2dcontour"
           }
          ],
          "mesh3d": [
           {
            "colorbar": {
             "outlinewidth": 0,
             "ticks": ""
            },
            "type": "mesh3d"
           }
          ],
          "parcoords": [
           {
            "line": {
             "colorbar": {
              "outlinewidth": 0,
              "ticks": ""
             }
            },
            "type": "parcoords"
           }
          ],
          "pie": [
           {
            "automargin": true,
            "type": "pie"
           }
          ],
          "scatter": [
           {
            "marker": {
             "colorbar": {
              "outlinewidth": 0,
              "ticks": ""
             }
            },
            "type": "scatter"
           }
          ],
          "scatter3d": [
           {
            "line": {
             "colorbar": {
              "outlinewidth": 0,
              "ticks": ""
             }
            },
            "marker": {
             "colorbar": {
              "outlinewidth": 0,
              "ticks": ""
             }
            },
            "type": "scatter3d"
           }
          ],
          "scattercarpet": [
           {
            "marker": {
             "colorbar": {
              "outlinewidth": 0,
              "ticks": ""
             }
            },
            "type": "scattercarpet"
           }
          ],
          "scattergeo": [
           {
            "marker": {
             "colorbar": {
              "outlinewidth": 0,
              "ticks": ""
             }
            },
            "type": "scattergeo"
           }
          ],
          "scattergl": [
           {
            "marker": {
             "colorbar": {
              "outlinewidth": 0,
              "ticks": ""
             }
            },
            "type": "scattergl"
           }
          ],
          "scattermapbox": [
           {
            "marker": {
             "colorbar": {
              "outlinewidth": 0,
              "ticks": ""
             }
            },
            "type": "scattermapbox"
           }
          ],
          "scatterpolar": [
           {
            "marker": {
             "colorbar": {
              "outlinewidth": 0,
              "ticks": ""
             }
            },
            "type": "scatterpolar"
           }
          ],
          "scatterpolargl": [
           {
            "marker": {
             "colorbar": {
              "outlinewidth": 0,
              "ticks": ""
             }
            },
            "type": "scatterpolargl"
           }
          ],
          "scatterternary": [
           {
            "marker": {
             "colorbar": {
              "outlinewidth": 0,
              "ticks": ""
             }
            },
            "type": "scatterternary"
           }
          ],
          "surface": [
           {
            "colorbar": {
             "outlinewidth": 0,
             "ticks": ""
            },
            "colorscale": [
             [
              0,
              "#0d0887"
             ],
             [
              0.1111111111111111,
              "#46039f"
             ],
             [
              0.2222222222222222,
              "#7201a8"
             ],
             [
              0.3333333333333333,
              "#9c179e"
             ],
             [
              0.4444444444444444,
              "#bd3786"
             ],
             [
              0.5555555555555556,
              "#d8576b"
             ],
             [
              0.6666666666666666,
              "#ed7953"
             ],
             [
              0.7777777777777778,
              "#fb9f3a"
             ],
             [
              0.8888888888888888,
              "#fdca26"
             ],
             [
              1,
              "#f0f921"
             ]
            ],
            "type": "surface"
           }
          ],
          "table": [
           {
            "cells": {
             "fill": {
              "color": "#EBF0F8"
             },
             "line": {
              "color": "white"
             }
            },
            "header": {
             "fill": {
              "color": "#C8D4E3"
             },
             "line": {
              "color": "white"
             }
            },
            "type": "table"
           }
          ]
         },
         "layout": {
          "annotationdefaults": {
           "arrowcolor": "#2a3f5f",
           "arrowhead": 0,
           "arrowwidth": 1
          },
          "coloraxis": {
           "colorbar": {
            "outlinewidth": 0,
            "ticks": ""
           }
          },
          "colorscale": {
           "diverging": [
            [
             0,
             "#8e0152"
            ],
            [
             0.1,
             "#c51b7d"
            ],
            [
             0.2,
             "#de77ae"
            ],
            [
             0.3,
             "#f1b6da"
            ],
            [
             0.4,
             "#fde0ef"
            ],
            [
             0.5,
             "#f7f7f7"
            ],
            [
             0.6,
             "#e6f5d0"
            ],
            [
             0.7,
             "#b8e186"
            ],
            [
             0.8,
             "#7fbc41"
            ],
            [
             0.9,
             "#4d9221"
            ],
            [
             1,
             "#276419"
            ]
           ],
           "sequential": [
            [
             0,
             "#0d0887"
            ],
            [
             0.1111111111111111,
             "#46039f"
            ],
            [
             0.2222222222222222,
             "#7201a8"
            ],
            [
             0.3333333333333333,
             "#9c179e"
            ],
            [
             0.4444444444444444,
             "#bd3786"
            ],
            [
             0.5555555555555556,
             "#d8576b"
            ],
            [
             0.6666666666666666,
             "#ed7953"
            ],
            [
             0.7777777777777778,
             "#fb9f3a"
            ],
            [
             0.8888888888888888,
             "#fdca26"
            ],
            [
             1,
             "#f0f921"
            ]
           ],
           "sequentialminus": [
            [
             0,
             "#0d0887"
            ],
            [
             0.1111111111111111,
             "#46039f"
            ],
            [
             0.2222222222222222,
             "#7201a8"
            ],
            [
             0.3333333333333333,
             "#9c179e"
            ],
            [
             0.4444444444444444,
             "#bd3786"
            ],
            [
             0.5555555555555556,
             "#d8576b"
            ],
            [
             0.6666666666666666,
             "#ed7953"
            ],
            [
             0.7777777777777778,
             "#fb9f3a"
            ],
            [
             0.8888888888888888,
             "#fdca26"
            ],
            [
             1,
             "#f0f921"
            ]
           ]
          },
          "colorway": [
           "#636efa",
           "#EF553B",
           "#00cc96",
           "#ab63fa",
           "#FFA15A",
           "#19d3f3",
           "#FF6692",
           "#B6E880",
           "#FF97FF",
           "#FECB52"
          ],
          "font": {
           "color": "#2a3f5f"
          },
          "geo": {
           "bgcolor": "white",
           "lakecolor": "white",
           "landcolor": "#E5ECF6",
           "showlakes": true,
           "showland": true,
           "subunitcolor": "white"
          },
          "hoverlabel": {
           "align": "left"
          },
          "hovermode": "closest",
          "mapbox": {
           "style": "light"
          },
          "paper_bgcolor": "white",
          "plot_bgcolor": "#E5ECF6",
          "polar": {
           "angularaxis": {
            "gridcolor": "white",
            "linecolor": "white",
            "ticks": ""
           },
           "bgcolor": "#E5ECF6",
           "radialaxis": {
            "gridcolor": "white",
            "linecolor": "white",
            "ticks": ""
           }
          },
          "scene": {
           "xaxis": {
            "backgroundcolor": "#E5ECF6",
            "gridcolor": "white",
            "gridwidth": 2,
            "linecolor": "white",
            "showbackground": true,
            "ticks": "",
            "zerolinecolor": "white"
           },
           "yaxis": {
            "backgroundcolor": "#E5ECF6",
            "gridcolor": "white",
            "gridwidth": 2,
            "linecolor": "white",
            "showbackground": true,
            "ticks": "",
            "zerolinecolor": "white"
           },
           "zaxis": {
            "backgroundcolor": "#E5ECF6",
            "gridcolor": "white",
            "gridwidth": 2,
            "linecolor": "white",
            "showbackground": true,
            "ticks": "",
            "zerolinecolor": "white"
           }
          },
          "shapedefaults": {
           "line": {
            "color": "#2a3f5f"
           }
          },
          "ternary": {
           "aaxis": {
            "gridcolor": "white",
            "linecolor": "white",
            "ticks": ""
           },
           "baxis": {
            "gridcolor": "white",
            "linecolor": "white",
            "ticks": ""
           },
           "bgcolor": "#E5ECF6",
           "caxis": {
            "gridcolor": "white",
            "linecolor": "white",
            "ticks": ""
           }
          },
          "title": {
           "x": 0.05
          },
          "xaxis": {
           "automargin": true,
           "gridcolor": "white",
           "linecolor": "white",
           "ticks": "",
           "title": {
            "standoff": 15
           },
           "zerolinecolor": "white",
           "zerolinewidth": 2
          },
          "yaxis": {
           "automargin": true,
           "gridcolor": "white",
           "linecolor": "white",
           "ticks": "",
           "title": {
            "standoff": 15
           },
           "zerolinecolor": "white",
           "zerolinewidth": 2
          }
         }
        },
        "title": {
         "text": "Industry Cluster Bubble Chart for Adam's County, Ohio",
         "x": 0.5
        },
        "xaxis": {
         "anchor": "y",
         "domain": [
          0,
          1
         ],
         "title": {
          "text": "Percent change in LQ (2015-2018)"
         }
        },
        "yaxis": {
         "anchor": "x",
         "domain": [
          0,
          1
         ],
         "title": {
          "text": "LQ in 2018"
         }
        }
       }
      }
     },
     "metadata": {}
    }
   ],
   "source": [
    "# Import plotly\n",
    "adam_bubble = px.scatter(\n",
    "    adam_data,\n",
    "    x=\"Per_change_LQ\",\n",
    "    y=\"LQ_2018\",\n",
    "    size=\"Eri_2018\",\n",
    "    color=\"LQ_comparison\",\n",
    "    hover_name=\"NAICS_Industry_Sector\",\n",
    "    size_max=None)\n",
    "\n",
    "adam_bubble.update_layout(\n",
    "    title_text=\"Industry Cluster Bubble Chart for Adam's County, Ohio\", \n",
    "    title_x=0.5, #center alignment for title,\n",
    "    xaxis=dict(title=\"Percent change in LQ (2015-2018)\"),\n",
    "    yaxis=dict(title=\"LQ in 2018\"),\n",
    "    font=dict(family=\"Helvetica\", size=14, color=\"black\"),\n",
    "    hoverlabel=dict(bgcolor='white', font=dict(color='black')))\n",
    "\n",
    "# Add shapes\n",
    "adam_bubble.add_shape(\n",
    "    # Line Vertical\n",
    "    dict(type=\"line\", x0=0, y0=0, x1=0, y1=6.5, line=dict(color=\"Black\", width=0.4)))\n",
    "\n",
    "adam_bubble.add_shape(\n",
    "    # Line Horizontal\n",
    "    type=\"line\", x0=-50, y0=1, x1=220, y1=1, line=dict(color=\"Black\", width=0.4))\n",
    "\n",
    "# Adding annotation to the figure\n",
    "adam_bubble.add_annotation(\n",
    "    x=200, y=0.12, text=\"Educational Services\")\n",
    "adam_bubble.add_annotation(\n",
    "    x=-6.3, y=6.06, text=\"Utilities\")\n",
    "\n",
    "adam_bubble.update_annotations(dict(\n",
    "    xref=\"x\", yref=\"y\", font=dict(size=12),\n",
    "    # showarrow=True,\n",
    "    # arrowhead=7,\n",
    "    ax=15, ay=-20  # location of text on the coordinates\n",
    "))\n",
    "\n",
    "adam_bubble.show()  # print the figure"
   ]
  },
  {
   "cell_type": "markdown",
   "metadata": {},
   "source": [
    "## check cluster bubble chart for Adams County"
   ]
  },
  {
   "cell_type": "code",
   "execution_count": 14,
   "metadata": {},
   "outputs": [],
   "source": [
    "# Saves the file in pdf format (pdf format saves resolution of picture)\n",
    "# Do you want the application “orca.app” to accept incoming network connections? Allow\n",
    "adam_bubble.write_image(\"./cluster_chart/adam_bubble_all.pdf\")"
   ]
  },
  {
   "cell_type": "markdown",
   "metadata": {},
   "source": [
    "## Filter extremes for clear observation"
   ]
  },
  {
   "cell_type": "code",
   "execution_count": 15,
   "metadata": {},
   "outputs": [],
   "source": [
    "# Remove extreme points. use the '&' operator to specify that both conditions are required\n",
    "adam_filtered = adam_data[(adam_data.Per_change_LQ < 70) & (adam_data.LQ_2018 < 1.8)]"
   ]
  },
  {
   "cell_type": "code",
   "execution_count": 16,
   "metadata": {},
   "outputs": [
    {
     "output_type": "execute_result",
     "data": {
      "text/plain": "(13, 11)"
     },
     "metadata": {},
     "execution_count": 16
    }
   ],
   "source": [
    "adam_filtered.shape\n",
    "# adam_filtered.shape"
   ]
  },
  {
   "cell_type": "code",
   "execution_count": 17,
   "metadata": {},
   "outputs": [
    {
     "output_type": "display_data",
     "data": {
      "application/vnd.plotly.v1+json": {
       "config": {
        "plotlyServerURL": "https://plot.ly"
       },
       "data": [
        {
         "hovertemplate": "<b>%{hovertext}</b><br><br>LQ_comparison=LQ<1<br>Per_change_LQ=%{x}<br>LQ_2018=%{y}<br>Eri_2018=%{marker.size}<extra></extra>",
         "hovertext": [
          "Construction",
          "Transportation and warehousing",
          "Information",
          "Finance and insurance",
          "Real estate and rental and leasing",
          "Administrative and waste services",
          "Arts, entertainment, and recreation",
          "Accommodation and food services",
          "Other services, except public administration"
         ],
         "legendgroup": "LQ<1",
         "marker": {
          "color": "#636efa",
          "size": [
           264,
           47,
           29,
           189,
           40,
           214,
           27,
           498,
           96
          ],
          "sizemode": "area",
          "sizeref": 2.165,
          "symbol": "circle"
         },
         "mode": "markers",
         "name": "LQ<1",
         "showlegend": true,
         "type": "scatter",
         "x": [
          57.1,
          0,
          -21.8,
          10.1,
          0,
          69.6,
          0,
          -17.9,
          -16.3
         ],
         "xaxis": "x",
         "y": [
          0.88,
          0.22,
          0.25,
          0.76,
          0.43,
          0.56,
          0.28,
          0.87,
          0.51
         ],
         "yaxis": "y"
        },
        {
         "hovertemplate": "<b>%{hovertext}</b><br><br>LQ_comparison=LQ>1<br>Per_change_LQ=%{x}<br>LQ_2018=%{y}<br>Eri_2018=%{marker.size}<extra></extra>",
         "hovertext": [
          "Manufacturing",
          "Wholesale trade",
          "Retail trade",
          "Health care and social assistance"
         ],
         "legendgroup": "LQ>1",
         "marker": {
          "color": "#EF553B",
          "size": [
           856,
           254,
           866,
           830
          ],
          "sizemode": "area",
          "sizeref": 2.165,
          "symbol": "circle"
         },
         "mode": "markers",
         "name": "LQ>1",
         "showlegend": true,
         "type": "scatter",
         "x": [
          16.4,
          9.4,
          -2.9,
          -12.9
         ],
         "xaxis": "x",
         "y": [
          1.63,
          1.04,
          1.32,
          1.01
         ],
         "yaxis": "y"
        }
       ],
       "layout": {
        "font": {
         "color": "black",
         "family": "Helvetica",
         "size": 14
        },
        "hoverlabel": {
         "bgcolor": "white",
         "font": {
          "color": "black"
         }
        },
        "legend": {
         "itemsizing": "constant",
         "title": {
          "text": "LQ_comparison"
         },
         "tracegroupgap": 0
        },
        "margin": {
         "t": 60
        },
        "shapes": [
         {
          "line": {
           "color": "Black",
           "width": 0.4
          },
          "type": "line",
          "x0": 0,
          "x1": 0,
          "y0": 0,
          "y1": 2
         },
         {
          "line": {
           "color": "Black",
           "width": 0.4
          },
          "type": "line",
          "x0": -30,
          "x1": 80,
          "y0": 1,
          "y1": 1
         }
        ],
        "template": {
         "data": {
          "bar": [
           {
            "error_x": {
             "color": "#2a3f5f"
            },
            "error_y": {
             "color": "#2a3f5f"
            },
            "marker": {
             "line": {
              "color": "#E5ECF6",
              "width": 0.5
             }
            },
            "type": "bar"
           }
          ],
          "barpolar": [
           {
            "marker": {
             "line": {
              "color": "#E5ECF6",
              "width": 0.5
             }
            },
            "type": "barpolar"
           }
          ],
          "carpet": [
           {
            "aaxis": {
             "endlinecolor": "#2a3f5f",
             "gridcolor": "white",
             "linecolor": "white",
             "minorgridcolor": "white",
             "startlinecolor": "#2a3f5f"
            },
            "baxis": {
             "endlinecolor": "#2a3f5f",
             "gridcolor": "white",
             "linecolor": "white",
             "minorgridcolor": "white",
             "startlinecolor": "#2a3f5f"
            },
            "type": "carpet"
           }
          ],
          "choropleth": [
           {
            "colorbar": {
             "outlinewidth": 0,
             "ticks": ""
            },
            "type": "choropleth"
           }
          ],
          "contour": [
           {
            "colorbar": {
             "outlinewidth": 0,
             "ticks": ""
            },
            "colorscale": [
             [
              0,
              "#0d0887"
             ],
             [
              0.1111111111111111,
              "#46039f"
             ],
             [
              0.2222222222222222,
              "#7201a8"
             ],
             [
              0.3333333333333333,
              "#9c179e"
             ],
             [
              0.4444444444444444,
              "#bd3786"
             ],
             [
              0.5555555555555556,
              "#d8576b"
             ],
             [
              0.6666666666666666,
              "#ed7953"
             ],
             [
              0.7777777777777778,
              "#fb9f3a"
             ],
             [
              0.8888888888888888,
              "#fdca26"
             ],
             [
              1,
              "#f0f921"
             ]
            ],
            "type": "contour"
           }
          ],
          "contourcarpet": [
           {
            "colorbar": {
             "outlinewidth": 0,
             "ticks": ""
            },
            "type": "contourcarpet"
           }
          ],
          "heatmap": [
           {
            "colorbar": {
             "outlinewidth": 0,
             "ticks": ""
            },
            "colorscale": [
             [
              0,
              "#0d0887"
             ],
             [
              0.1111111111111111,
              "#46039f"
             ],
             [
              0.2222222222222222,
              "#7201a8"
             ],
             [
              0.3333333333333333,
              "#9c179e"
             ],
             [
              0.4444444444444444,
              "#bd3786"
             ],
             [
              0.5555555555555556,
              "#d8576b"
             ],
             [
              0.6666666666666666,
              "#ed7953"
             ],
             [
              0.7777777777777778,
              "#fb9f3a"
             ],
             [
              0.8888888888888888,
              "#fdca26"
             ],
             [
              1,
              "#f0f921"
             ]
            ],
            "type": "heatmap"
           }
          ],
          "heatmapgl": [
           {
            "colorbar": {
             "outlinewidth": 0,
             "ticks": ""
            },
            "colorscale": [
             [
              0,
              "#0d0887"
             ],
             [
              0.1111111111111111,
              "#46039f"
             ],
             [
              0.2222222222222222,
              "#7201a8"
             ],
             [
              0.3333333333333333,
              "#9c179e"
             ],
             [
              0.4444444444444444,
              "#bd3786"
             ],
             [
              0.5555555555555556,
              "#d8576b"
             ],
             [
              0.6666666666666666,
              "#ed7953"
             ],
             [
              0.7777777777777778,
              "#fb9f3a"
             ],
             [
              0.8888888888888888,
              "#fdca26"
             ],
             [
              1,
              "#f0f921"
             ]
            ],
            "type": "heatmapgl"
           }
          ],
          "histogram": [
           {
            "marker": {
             "colorbar": {
              "outlinewidth": 0,
              "ticks": ""
             }
            },
            "type": "histogram"
           }
          ],
          "histogram2d": [
           {
            "colorbar": {
             "outlinewidth": 0,
             "ticks": ""
            },
            "colorscale": [
             [
              0,
              "#0d0887"
             ],
             [
              0.1111111111111111,
              "#46039f"
             ],
             [
              0.2222222222222222,
              "#7201a8"
             ],
             [
              0.3333333333333333,
              "#9c179e"
             ],
             [
              0.4444444444444444,
              "#bd3786"
             ],
             [
              0.5555555555555556,
              "#d8576b"
             ],
             [
              0.6666666666666666,
              "#ed7953"
             ],
             [
              0.7777777777777778,
              "#fb9f3a"
             ],
             [
              0.8888888888888888,
              "#fdca26"
             ],
             [
              1,
              "#f0f921"
             ]
            ],
            "type": "histogram2d"
           }
          ],
          "histogram2dcontour": [
           {
            "colorbar": {
             "outlinewidth": 0,
             "ticks": ""
            },
            "colorscale": [
             [
              0,
              "#0d0887"
             ],
             [
              0.1111111111111111,
              "#46039f"
             ],
             [
              0.2222222222222222,
              "#7201a8"
             ],
             [
              0.3333333333333333,
              "#9c179e"
             ],
             [
              0.4444444444444444,
              "#bd3786"
             ],
             [
              0.5555555555555556,
              "#d8576b"
             ],
             [
              0.6666666666666666,
              "#ed7953"
             ],
             [
              0.7777777777777778,
              "#fb9f3a"
             ],
             [
              0.8888888888888888,
              "#fdca26"
             ],
             [
              1,
              "#f0f921"
             ]
            ],
            "type": "histogram2dcontour"
           }
          ],
          "mesh3d": [
           {
            "colorbar": {
             "outlinewidth": 0,
             "ticks": ""
            },
            "type": "mesh3d"
           }
          ],
          "parcoords": [
           {
            "line": {
             "colorbar": {
              "outlinewidth": 0,
              "ticks": ""
             }
            },
            "type": "parcoords"
           }
          ],
          "pie": [
           {
            "automargin": true,
            "type": "pie"
           }
          ],
          "scatter": [
           {
            "marker": {
             "colorbar": {
              "outlinewidth": 0,
              "ticks": ""
             }
            },
            "type": "scatter"
           }
          ],
          "scatter3d": [
           {
            "line": {
             "colorbar": {
              "outlinewidth": 0,
              "ticks": ""
             }
            },
            "marker": {
             "colorbar": {
              "outlinewidth": 0,
              "ticks": ""
             }
            },
            "type": "scatter3d"
           }
          ],
          "scattercarpet": [
           {
            "marker": {
             "colorbar": {
              "outlinewidth": 0,
              "ticks": ""
             }
            },
            "type": "scattercarpet"
           }
          ],
          "scattergeo": [
           {
            "marker": {
             "colorbar": {
              "outlinewidth": 0,
              "ticks": ""
             }
            },
            "type": "scattergeo"
           }
          ],
          "scattergl": [
           {
            "marker": {
             "colorbar": {
              "outlinewidth": 0,
              "ticks": ""
             }
            },
            "type": "scattergl"
           }
          ],
          "scattermapbox": [
           {
            "marker": {
             "colorbar": {
              "outlinewidth": 0,
              "ticks": ""
             }
            },
            "type": "scattermapbox"
           }
          ],
          "scatterpolar": [
           {
            "marker": {
             "colorbar": {
              "outlinewidth": 0,
              "ticks": ""
             }
            },
            "type": "scatterpolar"
           }
          ],
          "scatterpolargl": [
           {
            "marker": {
             "colorbar": {
              "outlinewidth": 0,
              "ticks": ""
             }
            },
            "type": "scatterpolargl"
           }
          ],
          "scatterternary": [
           {
            "marker": {
             "colorbar": {
              "outlinewidth": 0,
              "ticks": ""
             }
            },
            "type": "scatterternary"
           }
          ],
          "surface": [
           {
            "colorbar": {
             "outlinewidth": 0,
             "ticks": ""
            },
            "colorscale": [
             [
              0,
              "#0d0887"
             ],
             [
              0.1111111111111111,
              "#46039f"
             ],
             [
              0.2222222222222222,
              "#7201a8"
             ],
             [
              0.3333333333333333,
              "#9c179e"
             ],
             [
              0.4444444444444444,
              "#bd3786"
             ],
             [
              0.5555555555555556,
              "#d8576b"
             ],
             [
              0.6666666666666666,
              "#ed7953"
             ],
             [
              0.7777777777777778,
              "#fb9f3a"
             ],
             [
              0.8888888888888888,
              "#fdca26"
             ],
             [
              1,
              "#f0f921"
             ]
            ],
            "type": "surface"
           }
          ],
          "table": [
           {
            "cells": {
             "fill": {
              "color": "#EBF0F8"
             },
             "line": {
              "color": "white"
             }
            },
            "header": {
             "fill": {
              "color": "#C8D4E3"
             },
             "line": {
              "color": "white"
             }
            },
            "type": "table"
           }
          ]
         },
         "layout": {
          "annotationdefaults": {
           "arrowcolor": "#2a3f5f",
           "arrowhead": 0,
           "arrowwidth": 1
          },
          "coloraxis": {
           "colorbar": {
            "outlinewidth": 0,
            "ticks": ""
           }
          },
          "colorscale": {
           "diverging": [
            [
             0,
             "#8e0152"
            ],
            [
             0.1,
             "#c51b7d"
            ],
            [
             0.2,
             "#de77ae"
            ],
            [
             0.3,
             "#f1b6da"
            ],
            [
             0.4,
             "#fde0ef"
            ],
            [
             0.5,
             "#f7f7f7"
            ],
            [
             0.6,
             "#e6f5d0"
            ],
            [
             0.7,
             "#b8e186"
            ],
            [
             0.8,
             "#7fbc41"
            ],
            [
             0.9,
             "#4d9221"
            ],
            [
             1,
             "#276419"
            ]
           ],
           "sequential": [
            [
             0,
             "#0d0887"
            ],
            [
             0.1111111111111111,
             "#46039f"
            ],
            [
             0.2222222222222222,
             "#7201a8"
            ],
            [
             0.3333333333333333,
             "#9c179e"
            ],
            [
             0.4444444444444444,
             "#bd3786"
            ],
            [
             0.5555555555555556,
             "#d8576b"
            ],
            [
             0.6666666666666666,
             "#ed7953"
            ],
            [
             0.7777777777777778,
             "#fb9f3a"
            ],
            [
             0.8888888888888888,
             "#fdca26"
            ],
            [
             1,
             "#f0f921"
            ]
           ],
           "sequentialminus": [
            [
             0,
             "#0d0887"
            ],
            [
             0.1111111111111111,
             "#46039f"
            ],
            [
             0.2222222222222222,
             "#7201a8"
            ],
            [
             0.3333333333333333,
             "#9c179e"
            ],
            [
             0.4444444444444444,
             "#bd3786"
            ],
            [
             0.5555555555555556,
             "#d8576b"
            ],
            [
             0.6666666666666666,
             "#ed7953"
            ],
            [
             0.7777777777777778,
             "#fb9f3a"
            ],
            [
             0.8888888888888888,
             "#fdca26"
            ],
            [
             1,
             "#f0f921"
            ]
           ]
          },
          "colorway": [
           "#636efa",
           "#EF553B",
           "#00cc96",
           "#ab63fa",
           "#FFA15A",
           "#19d3f3",
           "#FF6692",
           "#B6E880",
           "#FF97FF",
           "#FECB52"
          ],
          "font": {
           "color": "#2a3f5f"
          },
          "geo": {
           "bgcolor": "white",
           "lakecolor": "white",
           "landcolor": "#E5ECF6",
           "showlakes": true,
           "showland": true,
           "subunitcolor": "white"
          },
          "hoverlabel": {
           "align": "left"
          },
          "hovermode": "closest",
          "mapbox": {
           "style": "light"
          },
          "paper_bgcolor": "white",
          "plot_bgcolor": "#E5ECF6",
          "polar": {
           "angularaxis": {
            "gridcolor": "white",
            "linecolor": "white",
            "ticks": ""
           },
           "bgcolor": "#E5ECF6",
           "radialaxis": {
            "gridcolor": "white",
            "linecolor": "white",
            "ticks": ""
           }
          },
          "scene": {
           "xaxis": {
            "backgroundcolor": "#E5ECF6",
            "gridcolor": "white",
            "gridwidth": 2,
            "linecolor": "white",
            "showbackground": true,
            "ticks": "",
            "zerolinecolor": "white"
           },
           "yaxis": {
            "backgroundcolor": "#E5ECF6",
            "gridcolor": "white",
            "gridwidth": 2,
            "linecolor": "white",
            "showbackground": true,
            "ticks": "",
            "zerolinecolor": "white"
           },
           "zaxis": {
            "backgroundcolor": "#E5ECF6",
            "gridcolor": "white",
            "gridwidth": 2,
            "linecolor": "white",
            "showbackground": true,
            "ticks": "",
            "zerolinecolor": "white"
           }
          },
          "shapedefaults": {
           "line": {
            "color": "#2a3f5f"
           }
          },
          "ternary": {
           "aaxis": {
            "gridcolor": "white",
            "linecolor": "white",
            "ticks": ""
           },
           "baxis": {
            "gridcolor": "white",
            "linecolor": "white",
            "ticks": ""
           },
           "bgcolor": "#E5ECF6",
           "caxis": {
            "gridcolor": "white",
            "linecolor": "white",
            "ticks": ""
           }
          },
          "title": {
           "x": 0.05
          },
          "xaxis": {
           "automargin": true,
           "gridcolor": "white",
           "linecolor": "white",
           "ticks": "",
           "title": {
            "standoff": 15
           },
           "zerolinecolor": "white",
           "zerolinewidth": 2
          },
          "yaxis": {
           "automargin": true,
           "gridcolor": "white",
           "linecolor": "white",
           "ticks": "",
           "title": {
            "standoff": 15
           },
           "zerolinecolor": "white",
           "zerolinewidth": 2
          }
         }
        },
        "title": {
         "text": "Industry Cluster Bubble Chart for Adam's County, Ohio (excluding 2)",
         "x": 0.5
        },
        "xaxis": {
         "anchor": "y",
         "domain": [
          0,
          1
         ],
         "title": {
          "text": "Percent change in LQ (2015-2018)"
         }
        },
        "yaxis": {
         "anchor": "x",
         "domain": [
          0,
          1
         ],
         "title": {
          "text": "LQ in 2018"
         }
        }
       }
      }
     },
     "metadata": {}
    }
   ],
   "source": [
    "# Interactive plots using plotly....hover over data point to see the observations\n",
    "adam_bubble_filtered = px.scatter(\n",
    "    adam_filtered,\n",
    "    x=\"Per_change_LQ\", y=\"LQ_2018\",\n",
    "    size=\"Eri_2018\", color=\"LQ_comparison\", hover_name=\"NAICS_Industry_Sector\", size_max=None)\n",
    "\n",
    "# adam_bubble_filtered.update_xaxes(range=[-5, 6]) # update x and y axis ranges \n",
    "# adam_bubble_filtered.update_yaxes(range=[0.3, 1.8])\n",
    "# ohio_bubble_filtered.update_yaxes(nticks=7)\n",
    "\n",
    "# Add shapes\n",
    "adam_bubble_filtered.add_shape(\n",
    "    # Line Vertical\n",
    "    dict(type=\"line\", x0=0, y0=0, x1=0, y1=2, line=dict(color=\"Black\", width=0.4)))\n",
    "\n",
    "adam_bubble_filtered.add_shape(\n",
    "    # Line Horizontal\n",
    "    type=\"line\", x0=-30, y0=1, x1=80, y1=1, line=dict(color=\"Black\", width=0.4))\n",
    "\n",
    "adam_bubble_filtered.update_layout(\n",
    "    hoverlabel=dict(bgcolor='white', font=dict(color='black')),\n",
    "    title=\"Industry Cluster Bubble Chart for Adam's County, Ohio (excluding 2)\", \n",
    "    title_x=0.5, #center alignment for title\n",
    "    xaxis_title=\"Percent change in LQ (2015-2018)\",\n",
    "    yaxis_title=\"LQ in 2018\",\n",
    "    font=dict(family=\"Helvetica\", size=14, color=\"black\"),\n",
    "    # plot_bgcolor='rgba(0,0,0,0)', paper_bgcolor='rgba(0,0,0,0)' #for background color for graph and plot\n",
    "    # showlegend=False # to hide the legend\n",
    ")\n",
    "\n",
    "adam_bubble_filtered.show() # print the figure"
   ]
  },
  {
   "cell_type": "code",
   "execution_count": 18,
   "metadata": {},
   "outputs": [
    {
     "output_type": "display_data",
     "data": {
      "application/vnd.plotly.v1+json": {
       "config": {
        "plotlyServerURL": "https://plot.ly"
       },
       "data": [
        {
         "hovertemplate": "<b>%{hovertext}</b><br><br>LQ_comparison=LQ<1<br>Per_change_LQ=%{x}<br>LQ_2018=%{y}<br>Eri_2018=%{marker.size}<extra></extra>",
         "hovertext": [
          "Construction",
          "Transportation and warehousing",
          "Information",
          "Finance and insurance",
          "Real estate and rental and leasing",
          "Administrative and waste services",
          "Arts, entertainment, and recreation",
          "Accommodation and food services",
          "Other services, except public administration"
         ],
         "legendgroup": "LQ<1",
         "marker": {
          "color": "#636efa",
          "size": [
           264,
           47,
           29,
           189,
           40,
           214,
           27,
           498,
           96
          ],
          "sizemode": "area",
          "sizeref": 2.165,
          "symbol": "circle"
         },
         "mode": "markers",
         "name": "LQ<1",
         "showlegend": true,
         "type": "scatter",
         "x": [
          57.1,
          0,
          -21.8,
          10.1,
          0,
          69.6,
          0,
          -17.9,
          -16.3
         ],
         "xaxis": "x",
         "y": [
          0.88,
          0.22,
          0.25,
          0.76,
          0.43,
          0.56,
          0.28,
          0.87,
          0.51
         ],
         "yaxis": "y"
        },
        {
         "hovertemplate": "<b>%{hovertext}</b><br><br>LQ_comparison=LQ>1<br>Per_change_LQ=%{x}<br>LQ_2018=%{y}<br>Eri_2018=%{marker.size}<extra></extra>",
         "hovertext": [
          "Manufacturing",
          "Wholesale trade",
          "Retail trade",
          "Health care and social assistance"
         ],
         "legendgroup": "LQ>1",
         "marker": {
          "color": "#EF553B",
          "size": [
           856,
           254,
           866,
           830
          ],
          "sizemode": "area",
          "sizeref": 2.165,
          "symbol": "circle"
         },
         "mode": "markers",
         "name": "LQ>1",
         "showlegend": true,
         "type": "scatter",
         "x": [
          16.4,
          9.4,
          -2.9,
          -12.9
         ],
         "xaxis": "x",
         "y": [
          1.63,
          1.04,
          1.32,
          1.01
         ],
         "yaxis": "y"
        }
       ],
       "layout": {
        "annotations": [
         {
          "ax": 15,
          "ay": -20,
          "font": {
           "size": 8
          },
          "text": "Manufacturing",
          "x": 16.4,
          "xref": "x",
          "y": 1.63,
          "yref": "y"
         },
         {
          "ax": 15,
          "ay": -20,
          "font": {
           "size": 8
          },
          "text": "Retail Trade",
          "x": -2.9,
          "xref": "x",
          "y": 1.32,
          "yref": "y"
         },
         {
          "ax": 15,
          "ay": -20,
          "font": {
           "size": 8
          },
          "text": "Healthcare/Social Assistance",
          "x": -12.9,
          "xref": "x",
          "y": 1.01,
          "yref": "y"
         },
         {
          "ax": 15,
          "ay": -20,
          "font": {
           "size": 8
          },
          "text": "Wholesale trade",
          "x": 9.4,
          "xref": "x",
          "y": 1.04,
          "yref": "y"
         },
         {
          "ax": 15,
          "ay": -20,
          "font": {
           "size": 8
          },
          "text": "Construction",
          "x": 57.1,
          "xref": "x",
          "y": 0.88,
          "yref": "y"
         },
         {
          "ax": 15,
          "ay": -20,
          "font": {
           "size": 8
          },
          "text": "Administrative & waste service",
          "x": 69.6,
          "xref": "x",
          "y": 0.56,
          "yref": "y"
         },
         {
          "ax": 15,
          "ay": -20,
          "font": {
           "size": 8
          },
          "text": "Finance and Insurance",
          "x": 10.1,
          "xref": "x",
          "y": 0.76,
          "yref": "y"
         }
        ],
        "font": {
         "color": "black",
         "family": "Helvetica",
         "size": 14
        },
        "hoverlabel": {
         "bgcolor": "white",
         "font": {
          "color": "black"
         }
        },
        "legend": {
         "itemsizing": "constant",
         "title": {
          "text": "LQ_comparison"
         },
         "tracegroupgap": 0
        },
        "margin": {
         "t": 60
        },
        "shapes": [
         {
          "line": {
           "color": "Black",
           "width": 0.4
          },
          "type": "line",
          "x0": 0,
          "x1": 0,
          "y0": 0,
          "y1": 2
         },
         {
          "line": {
           "color": "Black",
           "width": 0.4
          },
          "type": "line",
          "x0": -30,
          "x1": 80,
          "y0": 1,
          "y1": 1
         }
        ],
        "template": {
         "data": {
          "bar": [
           {
            "error_x": {
             "color": "#2a3f5f"
            },
            "error_y": {
             "color": "#2a3f5f"
            },
            "marker": {
             "line": {
              "color": "#E5ECF6",
              "width": 0.5
             }
            },
            "type": "bar"
           }
          ],
          "barpolar": [
           {
            "marker": {
             "line": {
              "color": "#E5ECF6",
              "width": 0.5
             }
            },
            "type": "barpolar"
           }
          ],
          "carpet": [
           {
            "aaxis": {
             "endlinecolor": "#2a3f5f",
             "gridcolor": "white",
             "linecolor": "white",
             "minorgridcolor": "white",
             "startlinecolor": "#2a3f5f"
            },
            "baxis": {
             "endlinecolor": "#2a3f5f",
             "gridcolor": "white",
             "linecolor": "white",
             "minorgridcolor": "white",
             "startlinecolor": "#2a3f5f"
            },
            "type": "carpet"
           }
          ],
          "choropleth": [
           {
            "colorbar": {
             "outlinewidth": 0,
             "ticks": ""
            },
            "type": "choropleth"
           }
          ],
          "contour": [
           {
            "colorbar": {
             "outlinewidth": 0,
             "ticks": ""
            },
            "colorscale": [
             [
              0,
              "#0d0887"
             ],
             [
              0.1111111111111111,
              "#46039f"
             ],
             [
              0.2222222222222222,
              "#7201a8"
             ],
             [
              0.3333333333333333,
              "#9c179e"
             ],
             [
              0.4444444444444444,
              "#bd3786"
             ],
             [
              0.5555555555555556,
              "#d8576b"
             ],
             [
              0.6666666666666666,
              "#ed7953"
             ],
             [
              0.7777777777777778,
              "#fb9f3a"
             ],
             [
              0.8888888888888888,
              "#fdca26"
             ],
             [
              1,
              "#f0f921"
             ]
            ],
            "type": "contour"
           }
          ],
          "contourcarpet": [
           {
            "colorbar": {
             "outlinewidth": 0,
             "ticks": ""
            },
            "type": "contourcarpet"
           }
          ],
          "heatmap": [
           {
            "colorbar": {
             "outlinewidth": 0,
             "ticks": ""
            },
            "colorscale": [
             [
              0,
              "#0d0887"
             ],
             [
              0.1111111111111111,
              "#46039f"
             ],
             [
              0.2222222222222222,
              "#7201a8"
             ],
             [
              0.3333333333333333,
              "#9c179e"
             ],
             [
              0.4444444444444444,
              "#bd3786"
             ],
             [
              0.5555555555555556,
              "#d8576b"
             ],
             [
              0.6666666666666666,
              "#ed7953"
             ],
             [
              0.7777777777777778,
              "#fb9f3a"
             ],
             [
              0.8888888888888888,
              "#fdca26"
             ],
             [
              1,
              "#f0f921"
             ]
            ],
            "type": "heatmap"
           }
          ],
          "heatmapgl": [
           {
            "colorbar": {
             "outlinewidth": 0,
             "ticks": ""
            },
            "colorscale": [
             [
              0,
              "#0d0887"
             ],
             [
              0.1111111111111111,
              "#46039f"
             ],
             [
              0.2222222222222222,
              "#7201a8"
             ],
             [
              0.3333333333333333,
              "#9c179e"
             ],
             [
              0.4444444444444444,
              "#bd3786"
             ],
             [
              0.5555555555555556,
              "#d8576b"
             ],
             [
              0.6666666666666666,
              "#ed7953"
             ],
             [
              0.7777777777777778,
              "#fb9f3a"
             ],
             [
              0.8888888888888888,
              "#fdca26"
             ],
             [
              1,
              "#f0f921"
             ]
            ],
            "type": "heatmapgl"
           }
          ],
          "histogram": [
           {
            "marker": {
             "colorbar": {
              "outlinewidth": 0,
              "ticks": ""
             }
            },
            "type": "histogram"
           }
          ],
          "histogram2d": [
           {
            "colorbar": {
             "outlinewidth": 0,
             "ticks": ""
            },
            "colorscale": [
             [
              0,
              "#0d0887"
             ],
             [
              0.1111111111111111,
              "#46039f"
             ],
             [
              0.2222222222222222,
              "#7201a8"
             ],
             [
              0.3333333333333333,
              "#9c179e"
             ],
             [
              0.4444444444444444,
              "#bd3786"
             ],
             [
              0.5555555555555556,
              "#d8576b"
             ],
             [
              0.6666666666666666,
              "#ed7953"
             ],
             [
              0.7777777777777778,
              "#fb9f3a"
             ],
             [
              0.8888888888888888,
              "#fdca26"
             ],
             [
              1,
              "#f0f921"
             ]
            ],
            "type": "histogram2d"
           }
          ],
          "histogram2dcontour": [
           {
            "colorbar": {
             "outlinewidth": 0,
             "ticks": ""
            },
            "colorscale": [
             [
              0,
              "#0d0887"
             ],
             [
              0.1111111111111111,
              "#46039f"
             ],
             [
              0.2222222222222222,
              "#7201a8"
             ],
             [
              0.3333333333333333,
              "#9c179e"
             ],
             [
              0.4444444444444444,
              "#bd3786"
             ],
             [
              0.5555555555555556,
              "#d8576b"
             ],
             [
              0.6666666666666666,
              "#ed7953"
             ],
             [
              0.7777777777777778,
              "#fb9f3a"
             ],
             [
              0.8888888888888888,
              "#fdca26"
             ],
             [
              1,
              "#f0f921"
             ]
            ],
            "type": "histogram2dcontour"
           }
          ],
          "mesh3d": [
           {
            "colorbar": {
             "outlinewidth": 0,
             "ticks": ""
            },
            "type": "mesh3d"
           }
          ],
          "parcoords": [
           {
            "line": {
             "colorbar": {
              "outlinewidth": 0,
              "ticks": ""
             }
            },
            "type": "parcoords"
           }
          ],
          "pie": [
           {
            "automargin": true,
            "type": "pie"
           }
          ],
          "scatter": [
           {
            "marker": {
             "colorbar": {
              "outlinewidth": 0,
              "ticks": ""
             }
            },
            "type": "scatter"
           }
          ],
          "scatter3d": [
           {
            "line": {
             "colorbar": {
              "outlinewidth": 0,
              "ticks": ""
             }
            },
            "marker": {
             "colorbar": {
              "outlinewidth": 0,
              "ticks": ""
             }
            },
            "type": "scatter3d"
           }
          ],
          "scattercarpet": [
           {
            "marker": {
             "colorbar": {
              "outlinewidth": 0,
              "ticks": ""
             }
            },
            "type": "scattercarpet"
           }
          ],
          "scattergeo": [
           {
            "marker": {
             "colorbar": {
              "outlinewidth": 0,
              "ticks": ""
             }
            },
            "type": "scattergeo"
           }
          ],
          "scattergl": [
           {
            "marker": {
             "colorbar": {
              "outlinewidth": 0,
              "ticks": ""
             }
            },
            "type": "scattergl"
           }
          ],
          "scattermapbox": [
           {
            "marker": {
             "colorbar": {
              "outlinewidth": 0,
              "ticks": ""
             }
            },
            "type": "scattermapbox"
           }
          ],
          "scatterpolar": [
           {
            "marker": {
             "colorbar": {
              "outlinewidth": 0,
              "ticks": ""
             }
            },
            "type": "scatterpolar"
           }
          ],
          "scatterpolargl": [
           {
            "marker": {
             "colorbar": {
              "outlinewidth": 0,
              "ticks": ""
             }
            },
            "type": "scatterpolargl"
           }
          ],
          "scatterternary": [
           {
            "marker": {
             "colorbar": {
              "outlinewidth": 0,
              "ticks": ""
             }
            },
            "type": "scatterternary"
           }
          ],
          "surface": [
           {
            "colorbar": {
             "outlinewidth": 0,
             "ticks": ""
            },
            "colorscale": [
             [
              0,
              "#0d0887"
             ],
             [
              0.1111111111111111,
              "#46039f"
             ],
             [
              0.2222222222222222,
              "#7201a8"
             ],
             [
              0.3333333333333333,
              "#9c179e"
             ],
             [
              0.4444444444444444,
              "#bd3786"
             ],
             [
              0.5555555555555556,
              "#d8576b"
             ],
             [
              0.6666666666666666,
              "#ed7953"
             ],
             [
              0.7777777777777778,
              "#fb9f3a"
             ],
             [
              0.8888888888888888,
              "#fdca26"
             ],
             [
              1,
              "#f0f921"
             ]
            ],
            "type": "surface"
           }
          ],
          "table": [
           {
            "cells": {
             "fill": {
              "color": "#EBF0F8"
             },
             "line": {
              "color": "white"
             }
            },
            "header": {
             "fill": {
              "color": "#C8D4E3"
             },
             "line": {
              "color": "white"
             }
            },
            "type": "table"
           }
          ]
         },
         "layout": {
          "annotationdefaults": {
           "arrowcolor": "#2a3f5f",
           "arrowhead": 0,
           "arrowwidth": 1
          },
          "coloraxis": {
           "colorbar": {
            "outlinewidth": 0,
            "ticks": ""
           }
          },
          "colorscale": {
           "diverging": [
            [
             0,
             "#8e0152"
            ],
            [
             0.1,
             "#c51b7d"
            ],
            [
             0.2,
             "#de77ae"
            ],
            [
             0.3,
             "#f1b6da"
            ],
            [
             0.4,
             "#fde0ef"
            ],
            [
             0.5,
             "#f7f7f7"
            ],
            [
             0.6,
             "#e6f5d0"
            ],
            [
             0.7,
             "#b8e186"
            ],
            [
             0.8,
             "#7fbc41"
            ],
            [
             0.9,
             "#4d9221"
            ],
            [
             1,
             "#276419"
            ]
           ],
           "sequential": [
            [
             0,
             "#0d0887"
            ],
            [
             0.1111111111111111,
             "#46039f"
            ],
            [
             0.2222222222222222,
             "#7201a8"
            ],
            [
             0.3333333333333333,
             "#9c179e"
            ],
            [
             0.4444444444444444,
             "#bd3786"
            ],
            [
             0.5555555555555556,
             "#d8576b"
            ],
            [
             0.6666666666666666,
             "#ed7953"
            ],
            [
             0.7777777777777778,
             "#fb9f3a"
            ],
            [
             0.8888888888888888,
             "#fdca26"
            ],
            [
             1,
             "#f0f921"
            ]
           ],
           "sequentialminus": [
            [
             0,
             "#0d0887"
            ],
            [
             0.1111111111111111,
             "#46039f"
            ],
            [
             0.2222222222222222,
             "#7201a8"
            ],
            [
             0.3333333333333333,
             "#9c179e"
            ],
            [
             0.4444444444444444,
             "#bd3786"
            ],
            [
             0.5555555555555556,
             "#d8576b"
            ],
            [
             0.6666666666666666,
             "#ed7953"
            ],
            [
             0.7777777777777778,
             "#fb9f3a"
            ],
            [
             0.8888888888888888,
             "#fdca26"
            ],
            [
             1,
             "#f0f921"
            ]
           ]
          },
          "colorway": [
           "#636efa",
           "#EF553B",
           "#00cc96",
           "#ab63fa",
           "#FFA15A",
           "#19d3f3",
           "#FF6692",
           "#B6E880",
           "#FF97FF",
           "#FECB52"
          ],
          "font": {
           "color": "#2a3f5f"
          },
          "geo": {
           "bgcolor": "white",
           "lakecolor": "white",
           "landcolor": "#E5ECF6",
           "showlakes": true,
           "showland": true,
           "subunitcolor": "white"
          },
          "hoverlabel": {
           "align": "left"
          },
          "hovermode": "closest",
          "mapbox": {
           "style": "light"
          },
          "paper_bgcolor": "white",
          "plot_bgcolor": "#E5ECF6",
          "polar": {
           "angularaxis": {
            "gridcolor": "white",
            "linecolor": "white",
            "ticks": ""
           },
           "bgcolor": "#E5ECF6",
           "radialaxis": {
            "gridcolor": "white",
            "linecolor": "white",
            "ticks": ""
           }
          },
          "scene": {
           "xaxis": {
            "backgroundcolor": "#E5ECF6",
            "gridcolor": "white",
            "gridwidth": 2,
            "linecolor": "white",
            "showbackground": true,
            "ticks": "",
            "zerolinecolor": "white"
           },
           "yaxis": {
            "backgroundcolor": "#E5ECF6",
            "gridcolor": "white",
            "gridwidth": 2,
            "linecolor": "white",
            "showbackground": true,
            "ticks": "",
            "zerolinecolor": "white"
           },
           "zaxis": {
            "backgroundcolor": "#E5ECF6",
            "gridcolor": "white",
            "gridwidth": 2,
            "linecolor": "white",
            "showbackground": true,
            "ticks": "",
            "zerolinecolor": "white"
           }
          },
          "shapedefaults": {
           "line": {
            "color": "#2a3f5f"
           }
          },
          "ternary": {
           "aaxis": {
            "gridcolor": "white",
            "linecolor": "white",
            "ticks": ""
           },
           "baxis": {
            "gridcolor": "white",
            "linecolor": "white",
            "ticks": ""
           },
           "bgcolor": "#E5ECF6",
           "caxis": {
            "gridcolor": "white",
            "linecolor": "white",
            "ticks": ""
           }
          },
          "title": {
           "x": 0.05
          },
          "xaxis": {
           "automargin": true,
           "gridcolor": "white",
           "linecolor": "white",
           "ticks": "",
           "title": {
            "standoff": 15
           },
           "zerolinecolor": "white",
           "zerolinewidth": 2
          },
          "yaxis": {
           "automargin": true,
           "gridcolor": "white",
           "linecolor": "white",
           "ticks": "",
           "title": {
            "standoff": 15
           },
           "zerolinecolor": "white",
           "zerolinewidth": 2
          }
         }
        },
        "title": {
         "text": "Industry Cluster Bubble Chart for Adam's County, Ohio (excluding 2)",
         "x": 0.5
        },
        "xaxis": {
         "anchor": "y",
         "domain": [
          0,
          1
         ],
         "title": {
          "text": "Percent change in LQ (2015-2018)"
         }
        },
        "yaxis": {
         "anchor": "x",
         "domain": [
          0,
          1
         ],
         "title": {
          "text": "LQ in 2018"
         }
        }
       }
      }
     },
     "metadata": {}
    }
   ],
   "source": [
    "# Adding muliple Annotation to the figure\n",
    "adam_bubble_filtered.add_annotation(\n",
    "    x=16.4, y=1.63, text=\"Manufacturing\")\n",
    "adam_bubble_filtered.add_annotation(\n",
    "    x=-2.9, y=1.32, text=\"Retail Trade\")\n",
    "adam_bubble_filtered.add_annotation(\n",
    "    x=-12.9, y=1.01, text=\"Healthcare/Social Assistance\")\n",
    "adam_bubble_filtered.add_annotation(\n",
    "    x=9.4, y=1.04, text=\"Wholesale trade\")\n",
    "adam_bubble_filtered.add_annotation(\n",
    "    x=57.1, y=0.88, text=\"Construction\")\n",
    "adam_bubble_filtered.add_annotation(\n",
    "    x=69.6, y=0.56, text=\"Administrative & waste service\")\n",
    "adam_bubble_filtered.add_annotation(\n",
    "    x=10.1, y=0.76, text=\"Finance and Insurance\")\n",
    "\n",
    "\n",
    "adam_bubble_filtered.update_annotations(dict(\n",
    "    xref=\"x\", yref=\"y\", font=dict(size=8),\n",
    "    # showarrow=True,\n",
    "    # arrowhead=7,\n",
    "    ax=15, ay=-20  # location of text on the coordinates\n",
    "))\n",
    "\n",
    "adam_bubble_filtered.show()  # print the figure"
   ]
  },
  {
   "cell_type": "code",
   "execution_count": 19,
   "metadata": {},
   "outputs": [],
   "source": [
    "# Saves the file in pdf format (pdf format saves resolution of picture)\n",
    "# Do you want the application “orca.app” to accept incoming network connections? Allow\n",
    "adam_bubble_filtered.write_image(\"./cluster_chart/adam_bubble_filtered.pdf\")"
   ]
  },
  {
   "cell_type": "code",
   "execution_count": 20,
   "metadata": {},
   "outputs": [
    {
     "output_type": "stream",
     "name": "stdout",
     "text": "[NbConvertApp] Converting notebook clustercharts.ipynb to html\n[NbConvertApp] Writing 685967 bytes to clustercharts.html\n"
    }
   ],
   "source": [
    "# to convert jupyter notebook into html, run this code on terminal or here using !\n",
    "\n",
    "# pip install nbconvert\n",
    "! jupyter nbconvert --to html clustercharts.ipynb  "
   ]
  }
 ],
 "metadata": {
  "kernelspec": {
   "display_name": "Python 3",
   "language": "python",
   "name": "python3"
  },
  "language_info": {
   "codemirror_mode": {
    "name": "ipython",
    "version": 3
   },
   "file_extension": ".py",
   "mimetype": "text/x-python",
   "name": "python",
   "nbconvert_exporter": "python",
   "pygments_lexer": "ipython3",
   "version": "3.7.4-final"
  }
 },
 "nbformat": 4,
 "nbformat_minor": 4
}